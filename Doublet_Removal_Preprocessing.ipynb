{
 "cells": [
  {
   "cell_type": "code",
   "execution_count": 1,
   "id": "b8a55462",
   "metadata": {},
   "outputs": [],
   "source": [
    "import os"
   ]
  },
  {
   "cell_type": "code",
   "execution_count": 2,
   "id": "d1b390ec",
   "metadata": {},
   "outputs": [
    {
     "name": "stdout",
     "output_type": "stream",
     "text": [
      "/Users/yerrar/Documents/Brain_Cancer\r\n"
     ]
    }
   ],
   "source": [
    "os.chdir('/Users/yerrar/Documents/Brain_Cancer')\n",
    "!pwd"
   ]
  },
  {
   "cell_type": "code",
   "execution_count": 3,
   "id": "339436ec",
   "metadata": {
    "scrolled": true
   },
   "outputs": [
    {
     "name": "stdout",
     "output_type": "stream",
     "text": [
      "-----\n",
      "anndata     0.8.0\n",
      "scanpy      1.9.1\n",
      "-----\n",
      "PIL                         9.3.0\n",
      "appnope                     0.1.2\n",
      "asttokens                   NA\n",
      "backcall                    0.2.0\n",
      "beta_ufunc                  NA\n",
      "binom_ufunc                 NA\n",
      "bottleneck                  1.3.5\n",
      "cffi                        1.15.1\n",
      "cloudpickle                 2.0.0\n",
      "comm                        0.1.2\n",
      "cycler                      0.10.0\n",
      "cython_runtime              NA\n",
      "cytoolz                     0.12.0\n",
      "dask                        2022.7.0\n",
      "dateutil                    2.8.2\n",
      "debugpy                     1.5.1\n",
      "decorator                   5.1.1\n",
      "defusedxml                  0.7.1\n",
      "entrypoints                 0.4\n",
      "executing                   0.8.3\n",
      "fsspec                      2022.11.0\n",
      "h5py                        3.7.0\n",
      "hypergeom_ufunc             NA\n",
      "igraph                      0.10.2\n",
      "invgauss_ufunc              NA\n",
      "ipykernel                   6.19.2\n",
      "ipython_genutils            0.2.0\n",
      "jedi                        0.18.1\n",
      "jinja2                      3.1.2\n",
      "joblib                      1.1.1\n",
      "kiwisolver                  1.4.4\n",
      "leidenalg                   0.9.1\n",
      "llvmlite                    0.39.1\n",
      "markupsafe                  2.1.1\n",
      "matplotlib                  3.6.2\n",
      "matplotlib_inline           0.1.6\n",
      "mpl_toolkits                NA\n",
      "natsort                     8.2.0\n",
      "nbinom_ufunc                NA\n",
      "ncf_ufunc                   NA\n",
      "nct_ufunc                   NA\n",
      "ncx2_ufunc                  NA\n",
      "numba                       0.56.4\n",
      "numexpr                     2.8.4\n",
      "numpy                       1.23.0\n",
      "packaging                   22.0\n",
      "pandas                      1.5.2\n",
      "parso                       0.8.3\n",
      "pexpect                     4.8.0\n",
      "pickleshare                 0.7.5\n",
      "pkg_resources               NA\n",
      "platformdirs                2.5.2\n",
      "prompt_toolkit              3.0.36\n",
      "psutil                      5.9.0\n",
      "ptyprocess                  0.7.0\n",
      "pure_eval                   0.2.2\n",
      "pydev_ipython               NA\n",
      "pydevconsole                NA\n",
      "pydevd                      2.6.0\n",
      "pydevd_concurrency_analyser NA\n",
      "pydevd_file_utils           NA\n",
      "pydevd_plugins              NA\n",
      "pydevd_tracing              NA\n",
      "pygments                    2.11.2\n",
      "pyparsing                   3.0.9\n",
      "pytz                        2022.7\n",
      "scipy                       1.10.0\n",
      "scrublet                    NA\n",
      "session_info                1.0.0\n",
      "setuptools                  65.6.3\n",
      "six                         1.16.0\n",
      "skewnorm_ufunc              NA\n",
      "sklearn                     1.2.0\n",
      "stack_data                  0.2.0\n",
      "texttable                   1.6.7\n",
      "threadpoolctl               2.2.0\n",
      "tlz                         0.12.0\n",
      "toolz                       0.12.0\n",
      "tornado                     6.2\n",
      "traitlets                   5.7.1\n",
      "wcwidth                     0.2.5\n",
      "yaml                        6.0\n",
      "zipp                        NA\n",
      "zmq                         24.0.1\n",
      "zoneinfo                    NA\n",
      "-----\n",
      "IPython             8.7.0\n",
      "jupyter_client      7.4.8\n",
      "jupyter_core        5.1.1\n",
      "notebook            6.5.2\n",
      "-----\n",
      "Python 3.9.15 (main, Nov 24 2022, 08:29:02) [Clang 14.0.6 ]\n",
      "macOS-10.16-x86_64-i386-64bit\n",
      "-----\n",
      "Session information updated at 2023-02-23 09:00\n"
     ]
    }
   ],
   "source": [
    "import numpy as np\n",
    "import pandas as pd\n",
    "import scanpy as sc\n",
    "\n",
    "%matplotlib inline\n",
    "import scrublet as scr\n",
    "import scipy.io\n",
    "\n",
    "#from matplotlib import rcParams\n",
    "#sc.logging.print_header()\n",
    "\n",
    "import matplotlib\n",
    "import matplotlib.pyplot as plt\n",
    "matplotlib.style.use('default')  \n",
    "\n",
    "sc.settings.set_figure_params(dpi=80)\n",
    "sc.logging.print_versions()\n"
   ]
  },
  {
   "cell_type": "code",
   "execution_count": 4,
   "id": "b134564c",
   "metadata": {},
   "outputs": [],
   "source": [
    "sc.settings.verbosity = 3  # verbosity: errors (0), warnings (1), info (2), hints (3)"
   ]
  },
  {
   "cell_type": "markdown",
   "id": "30e0e9d6",
   "metadata": {},
   "source": [
    "# Reading Raw Data"
   ]
  },
  {
   "cell_type": "code",
   "execution_count": 5,
   "id": "8c09cd57",
   "metadata": {},
   "outputs": [
    {
     "name": "stdout",
     "output_type": "stream",
     "text": [
      "... reading from cache file cache/Data-GSM5518596-filtered_feature_bc_matrix-matrix.h5ad\n"
     ]
    },
    {
     "data": {
      "text/html": [
       "<div>\n",
       "<style scoped>\n",
       "    .dataframe tbody tr th:only-of-type {\n",
       "        vertical-align: middle;\n",
       "    }\n",
       "\n",
       "    .dataframe tbody tr th {\n",
       "        vertical-align: top;\n",
       "    }\n",
       "\n",
       "    .dataframe thead th {\n",
       "        text-align: right;\n",
       "    }\n",
       "</style>\n",
       "<table border=\"1\" class=\"dataframe\">\n",
       "  <thead>\n",
       "    <tr style=\"text-align: right;\">\n",
       "      <th></th>\n",
       "    </tr>\n",
       "  </thead>\n",
       "  <tbody>\n",
       "    <tr>\n",
       "      <th>AAACCTGAGAAGCCCA-1</th>\n",
       "    </tr>\n",
       "    <tr>\n",
       "      <th>AAACCTGCACTGTCGG-1</th>\n",
       "    </tr>\n",
       "    <tr>\n",
       "      <th>AAACCTGCAGCGTCCA-1</th>\n",
       "    </tr>\n",
       "    <tr>\n",
       "      <th>AAACCTGGTAAATGAC-1</th>\n",
       "    </tr>\n",
       "    <tr>\n",
       "      <th>AAACCTGGTCACTTCC-1</th>\n",
       "    </tr>\n",
       "    <tr>\n",
       "      <th>...</th>\n",
       "    </tr>\n",
       "    <tr>\n",
       "      <th>TTTGTCAGTGACGCCT-1</th>\n",
       "    </tr>\n",
       "    <tr>\n",
       "      <th>TTTGTCAGTTCCATGA-1</th>\n",
       "    </tr>\n",
       "    <tr>\n",
       "      <th>TTTGTCAGTTTGTGTG-1</th>\n",
       "    </tr>\n",
       "    <tr>\n",
       "      <th>TTTGTCATCCCGACTT-1</th>\n",
       "    </tr>\n",
       "    <tr>\n",
       "      <th>TTTGTCATCCGCATAA-1</th>\n",
       "    </tr>\n",
       "  </tbody>\n",
       "</table>\n",
       "<p>4594 rows × 0 columns</p>\n",
       "</div>"
      ],
      "text/plain": [
       "Empty DataFrame\n",
       "Columns: []\n",
       "Index: [AAACCTGAGAAGCCCA-1, AAACCTGCACTGTCGG-1, AAACCTGCAGCGTCCA-1, AAACCTGGTAAATGAC-1, AAACCTGGTCACTTCC-1, AAACCTGGTTACAGAA-1, AAACCTGGTTAGATGA-1, AAACCTGTCAAACCAC-1, AAACCTGTCGCCATAA-1, AAACCTGTCTGTCAAG-1, AAACGGGAGCTCCTCT-1, AAACGGGAGTAACCCT-1, AAACGGGCACAGGCCT-1, AAACGGGCAGACAGGT-1, AAACGGGGTCAAAGCG-1, AAACGGGGTGTGACGA-1, AAACGGGGTTATTCTC-1, AAACGGGTCCGCATAA-1, AAAGATGAGCTAAACA-1, AAAGATGCAGCTGTAT-1, AAAGATGGTGGCTCCA-1, AAAGATGGTTCAACCA-1, AAAGATGGTTTGCATG-1, AAAGATGTCAAGGTAA-1, AAAGATGTCCTCAATT-1, AAAGCAAAGCTGCAAG-1, AAAGCAAAGTCCATAC-1, AAAGCAACAGTCACTA-1, AAAGCAACATGCTAGT-1, AAAGCAAGTGCTGTAT-1, AAAGCAAGTGTGAAAT-1, AAAGCAAGTTGTTTGG-1, AAAGCAATCACAAACC-1, AAAGCAATCACTCCTG-1, AAAGCAATCAGTTGAC-1, AAAGCAATCCATGAAC-1, AAAGCAATCTTCCTTC-1, AAAGTAGAGCAGATCG-1, AAAGTAGAGGCGATAC-1, AAAGTAGCAACCGCCA-1, AAAGTAGCACCGTTGG-1, AAAGTAGCAGTAGAGC-1, AAAGTAGCATGCCCGA-1, AAAGTAGCATGCCTTC-1, AAAGTAGCATGTCTCC-1, AAAGTAGGTCGGATCC-1, AAAGTAGGTGAAGGCT-1, AAAGTAGGTTACCAGT-1, AAAGTAGTCACATAGC-1, AAAGTAGTCGCCAGCA-1, AAAGTAGTCTGTCCGT-1, AAATGCCAGGCCGAAT-1, AAATGCCCAATTGCTG-1, AAATGCCCACTTACGA-1, AAATGCCCAGGATTGG-1, AAATGCCGTATATGGA-1, AAATGCCGTCCGTTAA-1, AAATGCCGTCGCATAT-1, AAATGCCGTGCCTTGG-1, AAATGCCTCACCAGGC-1, AAATGCCTCCATTCTA-1, AAATGCCTCCCACTTG-1, AAATGCCTCCTGCAGG-1, AACACGTAGGTAGCTG-1, AACACGTAGTTATCGC-1, AACACGTGTAGGACAC-1, AACACGTGTAGGCATG-1, AACACGTGTATGAATG-1, AACACGTGTGCGAAAC-1, AACACGTGTGTTTGTG-1, AACACGTTCAACACGT-1, AACACGTTCAGTTGAC-1, AACACGTTCGGCCGAT-1, AACCATGAGACTACAA-1, AACCATGAGTAGTGCG-1, AACCATGGTAACGCGA-1, AACCATGGTCAAGCGA-1, AACCATGGTGGCAAAC-1, AACCATGGTGTGGTTT-1, AACCATGGTTCGGGCT-1, AACCATGGTTCTGGTA-1, AACCATGTCATAGCAC-1, AACCATGTCCGCAGTG-1, AACCGCGAGACACTAA-1, AACCGCGAGATCCGAG-1, AACCGCGAGGTGTTAA-1, AACCGCGAGTGTCCAT-1, AACCGCGAGTGTGAAT-1, AACCGCGCAACGCACC-1, AACCGCGGTACCAGTT-1, AACCGCGGTAGAGCTG-1, AACCGCGGTATGAAAC-1, AACCGCGGTCCCTTGT-1, AACGTTGAGACCTTTG-1, AACGTTGAGGCACATG-1, AACGTTGCATTCCTCG-1, AACGTTGGTCCAGTGC-1, AACGTTGGTCGGCTCA-1, AACGTTGTCAAAGTAG-1, AACGTTGTCACCTTAT-1, ...]\n",
       "\n",
       "[4594 rows x 0 columns]"
      ]
     },
     "execution_count": 5,
     "metadata": {},
     "output_type": "execute_result"
    }
   ],
   "source": [
    "adata = sc.read_10x_mtx('Data/GSM5518596/filtered_feature_bc_matrix', var_names='gene_symbols', cache=True)\n",
    "adata.obs.index = adata.obs.index.str[:-1]\n",
    "adata.obs.index = adata.obs.index + '1'\n",
    "adata.obs"
   ]
  },
  {
   "cell_type": "code",
   "execution_count": 6,
   "id": "1a03ef97",
   "metadata": {
    "scrolled": true
   },
   "outputs": [
    {
     "name": "stdout",
     "output_type": "stream",
     "text": [
      "['GSM5518597', 'GSM5518598', 'GSM5518599', 'GSM5518600', 'GSM5518601', 'GSM5518602', 'GSM5518603', 'GSM5518604', 'GSM5518605', 'GSM5518606', 'GSM5518607', 'GSM5518608', 'GSM5518609', 'GSM5518610', 'GSM5518611', 'GSM5518612', 'GSM5518613', 'GSM5518614', 'GSM5518615', 'GSM5518616', 'GSM5518617', 'GSM5518618', 'GSM5518619', 'GSM5518620', 'GSM5518621', 'GSM5518622', 'GSM5518623', 'GSM5518624', 'GSM5518625', 'GSM5518626', 'GSM5518627', 'GSM5518628', 'GSM5518629', 'GSM5518630', 'GSM5518631', 'GSM5518632', 'GSM5518633', 'GSM5518634', 'GSM5518635', 'GSM5518636', 'GSM5518637', 'GSM5518638', 'GSM5518639']\n",
      "... reading from cache file cache/Data-GSM5518597-filtered_feature_bc_matrix-matrix.h5ad\n",
      "... reading from cache file cache/Data-GSM5518598-filtered_feature_bc_matrix-matrix.h5ad\n"
     ]
    },
    {
     "name": "stderr",
     "output_type": "stream",
     "text": [
      "/Users/yerrar/opt/miniconda3/envs/scanpy_env_A/lib/python3.9/site-packages/anndata/_core/anndata.py:1785: FutureWarning: X.dtype being converted to np.float32 from float64. In the next version of anndata (0.9) conversion will not be automatic. Pass dtype explicitly to avoid this warning. Pass `AnnData(X, dtype=X.dtype, ...)` to get the future behavour.\n",
      "  [AnnData(sparse.csr_matrix(a.shape), obs=a.obs) for a in all_adatas],\n"
     ]
    },
    {
     "name": "stdout",
     "output_type": "stream",
     "text": [
      "... reading from cache file cache/Data-GSM5518599-filtered_feature_bc_matrix-matrix.h5ad\n"
     ]
    },
    {
     "name": "stderr",
     "output_type": "stream",
     "text": [
      "/Users/yerrar/opt/miniconda3/envs/scanpy_env_A/lib/python3.9/site-packages/anndata/_core/anndata.py:1785: FutureWarning: X.dtype being converted to np.float32 from float64. In the next version of anndata (0.9) conversion will not be automatic. Pass dtype explicitly to avoid this warning. Pass `AnnData(X, dtype=X.dtype, ...)` to get the future behavour.\n",
      "  [AnnData(sparse.csr_matrix(a.shape), obs=a.obs) for a in all_adatas],\n",
      "/Users/yerrar/opt/miniconda3/envs/scanpy_env_A/lib/python3.9/site-packages/anndata/_core/anndata.py:1785: FutureWarning: X.dtype being converted to np.float32 from float64. In the next version of anndata (0.9) conversion will not be automatic. Pass dtype explicitly to avoid this warning. Pass `AnnData(X, dtype=X.dtype, ...)` to get the future behavour.\n",
      "  [AnnData(sparse.csr_matrix(a.shape), obs=a.obs) for a in all_adatas],\n"
     ]
    },
    {
     "name": "stdout",
     "output_type": "stream",
     "text": [
      "... reading from cache file cache/Data-GSM5518600-filtered_feature_bc_matrix-matrix.h5ad\n",
      "... reading from cache file cache/Data-GSM5518601-filtered_feature_bc_matrix-matrix.h5ad\n"
     ]
    },
    {
     "name": "stderr",
     "output_type": "stream",
     "text": [
      "/Users/yerrar/opt/miniconda3/envs/scanpy_env_A/lib/python3.9/site-packages/anndata/_core/anndata.py:1785: FutureWarning: X.dtype being converted to np.float32 from float64. In the next version of anndata (0.9) conversion will not be automatic. Pass dtype explicitly to avoid this warning. Pass `AnnData(X, dtype=X.dtype, ...)` to get the future behavour.\n",
      "  [AnnData(sparse.csr_matrix(a.shape), obs=a.obs) for a in all_adatas],\n"
     ]
    },
    {
     "name": "stdout",
     "output_type": "stream",
     "text": [
      "... reading from cache file cache/Data-GSM5518602-filtered_feature_bc_matrix-matrix.h5ad\n"
     ]
    },
    {
     "name": "stderr",
     "output_type": "stream",
     "text": [
      "/Users/yerrar/opt/miniconda3/envs/scanpy_env_A/lib/python3.9/site-packages/anndata/_core/anndata.py:1785: FutureWarning: X.dtype being converted to np.float32 from float64. In the next version of anndata (0.9) conversion will not be automatic. Pass dtype explicitly to avoid this warning. Pass `AnnData(X, dtype=X.dtype, ...)` to get the future behavour.\n",
      "  [AnnData(sparse.csr_matrix(a.shape), obs=a.obs) for a in all_adatas],\n"
     ]
    },
    {
     "name": "stdout",
     "output_type": "stream",
     "text": [
      "... reading from cache file cache/Data-GSM5518603-filtered_feature_bc_matrix-matrix.h5ad\n"
     ]
    },
    {
     "name": "stderr",
     "output_type": "stream",
     "text": [
      "/Users/yerrar/opt/miniconda3/envs/scanpy_env_A/lib/python3.9/site-packages/anndata/_core/anndata.py:1785: FutureWarning: X.dtype being converted to np.float32 from float64. In the next version of anndata (0.9) conversion will not be automatic. Pass dtype explicitly to avoid this warning. Pass `AnnData(X, dtype=X.dtype, ...)` to get the future behavour.\n",
      "  [AnnData(sparse.csr_matrix(a.shape), obs=a.obs) for a in all_adatas],\n"
     ]
    },
    {
     "name": "stdout",
     "output_type": "stream",
     "text": [
      "... reading from cache file cache/Data-GSM5518604-filtered_feature_bc_matrix-matrix.h5ad\n"
     ]
    },
    {
     "name": "stderr",
     "output_type": "stream",
     "text": [
      "/Users/yerrar/opt/miniconda3/envs/scanpy_env_A/lib/python3.9/site-packages/anndata/_core/anndata.py:1785: FutureWarning: X.dtype being converted to np.float32 from float64. In the next version of anndata (0.9) conversion will not be automatic. Pass dtype explicitly to avoid this warning. Pass `AnnData(X, dtype=X.dtype, ...)` to get the future behavour.\n",
      "  [AnnData(sparse.csr_matrix(a.shape), obs=a.obs) for a in all_adatas],\n"
     ]
    },
    {
     "name": "stdout",
     "output_type": "stream",
     "text": [
      "... reading from cache file cache/Data-GSM5518605-filtered_feature_bc_matrix-matrix.h5ad\n"
     ]
    },
    {
     "name": "stderr",
     "output_type": "stream",
     "text": [
      "/Users/yerrar/opt/miniconda3/envs/scanpy_env_A/lib/python3.9/site-packages/anndata/_core/anndata.py:1785: FutureWarning: X.dtype being converted to np.float32 from float64. In the next version of anndata (0.9) conversion will not be automatic. Pass dtype explicitly to avoid this warning. Pass `AnnData(X, dtype=X.dtype, ...)` to get the future behavour.\n",
      "  [AnnData(sparse.csr_matrix(a.shape), obs=a.obs) for a in all_adatas],\n"
     ]
    },
    {
     "name": "stdout",
     "output_type": "stream",
     "text": [
      "... reading from cache file cache/Data-GSM5518606-filtered_feature_bc_matrix-matrix.h5ad\n"
     ]
    },
    {
     "name": "stderr",
     "output_type": "stream",
     "text": [
      "/Users/yerrar/opt/miniconda3/envs/scanpy_env_A/lib/python3.9/site-packages/anndata/_core/anndata.py:1785: FutureWarning: X.dtype being converted to np.float32 from float64. In the next version of anndata (0.9) conversion will not be automatic. Pass dtype explicitly to avoid this warning. Pass `AnnData(X, dtype=X.dtype, ...)` to get the future behavour.\n",
      "  [AnnData(sparse.csr_matrix(a.shape), obs=a.obs) for a in all_adatas],\n"
     ]
    },
    {
     "name": "stdout",
     "output_type": "stream",
     "text": [
      "... reading from cache file cache/Data-GSM5518607-filtered_feature_bc_matrix-matrix.h5ad\n"
     ]
    },
    {
     "name": "stderr",
     "output_type": "stream",
     "text": [
      "/Users/yerrar/opt/miniconda3/envs/scanpy_env_A/lib/python3.9/site-packages/anndata/_core/anndata.py:1785: FutureWarning: X.dtype being converted to np.float32 from float64. In the next version of anndata (0.9) conversion will not be automatic. Pass dtype explicitly to avoid this warning. Pass `AnnData(X, dtype=X.dtype, ...)` to get the future behavour.\n",
      "  [AnnData(sparse.csr_matrix(a.shape), obs=a.obs) for a in all_adatas],\n"
     ]
    },
    {
     "name": "stdout",
     "output_type": "stream",
     "text": [
      "... reading from cache file cache/Data-GSM5518608-filtered_feature_bc_matrix-matrix.h5ad\n"
     ]
    },
    {
     "name": "stderr",
     "output_type": "stream",
     "text": [
      "/Users/yerrar/opt/miniconda3/envs/scanpy_env_A/lib/python3.9/site-packages/anndata/_core/anndata.py:1785: FutureWarning: X.dtype being converted to np.float32 from float64. In the next version of anndata (0.9) conversion will not be automatic. Pass dtype explicitly to avoid this warning. Pass `AnnData(X, dtype=X.dtype, ...)` to get the future behavour.\n",
      "  [AnnData(sparse.csr_matrix(a.shape), obs=a.obs) for a in all_adatas],\n"
     ]
    },
    {
     "name": "stdout",
     "output_type": "stream",
     "text": [
      "... reading from cache file cache/Data-GSM5518609-filtered_feature_bc_matrix-matrix.h5ad\n"
     ]
    },
    {
     "name": "stderr",
     "output_type": "stream",
     "text": [
      "/Users/yerrar/opt/miniconda3/envs/scanpy_env_A/lib/python3.9/site-packages/anndata/_core/anndata.py:1785: FutureWarning: X.dtype being converted to np.float32 from float64. In the next version of anndata (0.9) conversion will not be automatic. Pass dtype explicitly to avoid this warning. Pass `AnnData(X, dtype=X.dtype, ...)` to get the future behavour.\n",
      "  [AnnData(sparse.csr_matrix(a.shape), obs=a.obs) for a in all_adatas],\n"
     ]
    },
    {
     "name": "stdout",
     "output_type": "stream",
     "text": [
      "... reading from cache file cache/Data-GSM5518610-filtered_feature_bc_matrix-matrix.h5ad\n"
     ]
    },
    {
     "name": "stderr",
     "output_type": "stream",
     "text": [
      "/Users/yerrar/opt/miniconda3/envs/scanpy_env_A/lib/python3.9/site-packages/anndata/_core/anndata.py:1785: FutureWarning: X.dtype being converted to np.float32 from float64. In the next version of anndata (0.9) conversion will not be automatic. Pass dtype explicitly to avoid this warning. Pass `AnnData(X, dtype=X.dtype, ...)` to get the future behavour.\n",
      "  [AnnData(sparse.csr_matrix(a.shape), obs=a.obs) for a in all_adatas],\n"
     ]
    },
    {
     "name": "stdout",
     "output_type": "stream",
     "text": [
      "... reading from cache file cache/Data-GSM5518611-filtered_feature_bc_matrix-matrix.h5ad\n"
     ]
    },
    {
     "name": "stderr",
     "output_type": "stream",
     "text": [
      "/Users/yerrar/opt/miniconda3/envs/scanpy_env_A/lib/python3.9/site-packages/anndata/_core/anndata.py:1785: FutureWarning: X.dtype being converted to np.float32 from float64. In the next version of anndata (0.9) conversion will not be automatic. Pass dtype explicitly to avoid this warning. Pass `AnnData(X, dtype=X.dtype, ...)` to get the future behavour.\n",
      "  [AnnData(sparse.csr_matrix(a.shape), obs=a.obs) for a in all_adatas],\n",
      "/Users/yerrar/opt/miniconda3/envs/scanpy_env_A/lib/python3.9/site-packages/anndata/_core/anndata.py:1785: FutureWarning: X.dtype being converted to np.float32 from float64. In the next version of anndata (0.9) conversion will not be automatic. Pass dtype explicitly to avoid this warning. Pass `AnnData(X, dtype=X.dtype, ...)` to get the future behavour.\n",
      "  [AnnData(sparse.csr_matrix(a.shape), obs=a.obs) for a in all_adatas],\n"
     ]
    },
    {
     "name": "stdout",
     "output_type": "stream",
     "text": [
      "... reading from cache file cache/Data-GSM5518612-filtered_feature_bc_matrix-matrix.h5ad\n"
     ]
    },
    {
     "name": "stderr",
     "output_type": "stream",
     "text": [
      "/Users/yerrar/opt/miniconda3/envs/scanpy_env_A/lib/python3.9/site-packages/anndata/_core/anndata.py:1785: FutureWarning: X.dtype being converted to np.float32 from float64. In the next version of anndata (0.9) conversion will not be automatic. Pass dtype explicitly to avoid this warning. Pass `AnnData(X, dtype=X.dtype, ...)` to get the future behavour.\n",
      "  [AnnData(sparse.csr_matrix(a.shape), obs=a.obs) for a in all_adatas],\n"
     ]
    },
    {
     "name": "stdout",
     "output_type": "stream",
     "text": [
      "... reading from cache file cache/Data-GSM5518613-filtered_feature_bc_matrix-matrix.h5ad\n"
     ]
    },
    {
     "name": "stderr",
     "output_type": "stream",
     "text": [
      "/Users/yerrar/opt/miniconda3/envs/scanpy_env_A/lib/python3.9/site-packages/anndata/_core/anndata.py:1785: FutureWarning: X.dtype being converted to np.float32 from float64. In the next version of anndata (0.9) conversion will not be automatic. Pass dtype explicitly to avoid this warning. Pass `AnnData(X, dtype=X.dtype, ...)` to get the future behavour.\n",
      "  [AnnData(sparse.csr_matrix(a.shape), obs=a.obs) for a in all_adatas],\n"
     ]
    },
    {
     "name": "stdout",
     "output_type": "stream",
     "text": [
      "... reading from cache file cache/Data-GSM5518614-filtered_feature_bc_matrix-matrix.h5ad\n"
     ]
    },
    {
     "name": "stderr",
     "output_type": "stream",
     "text": [
      "/Users/yerrar/opt/miniconda3/envs/scanpy_env_A/lib/python3.9/site-packages/anndata/_core/anndata.py:1785: FutureWarning: X.dtype being converted to np.float32 from float64. In the next version of anndata (0.9) conversion will not be automatic. Pass dtype explicitly to avoid this warning. Pass `AnnData(X, dtype=X.dtype, ...)` to get the future behavour.\n",
      "  [AnnData(sparse.csr_matrix(a.shape), obs=a.obs) for a in all_adatas],\n"
     ]
    },
    {
     "name": "stdout",
     "output_type": "stream",
     "text": [
      "... reading from cache file cache/Data-GSM5518615-filtered_feature_bc_matrix-matrix.h5ad\n"
     ]
    },
    {
     "name": "stderr",
     "output_type": "stream",
     "text": [
      "/Users/yerrar/opt/miniconda3/envs/scanpy_env_A/lib/python3.9/site-packages/anndata/_core/anndata.py:1785: FutureWarning: X.dtype being converted to np.float32 from float64. In the next version of anndata (0.9) conversion will not be automatic. Pass dtype explicitly to avoid this warning. Pass `AnnData(X, dtype=X.dtype, ...)` to get the future behavour.\n",
      "  [AnnData(sparse.csr_matrix(a.shape), obs=a.obs) for a in all_adatas],\n"
     ]
    },
    {
     "name": "stdout",
     "output_type": "stream",
     "text": [
      "... reading from cache file cache/Data-GSM5518616-filtered_feature_bc_matrix-matrix.h5ad\n"
     ]
    },
    {
     "name": "stderr",
     "output_type": "stream",
     "text": [
      "/Users/yerrar/opt/miniconda3/envs/scanpy_env_A/lib/python3.9/site-packages/anndata/_core/anndata.py:1785: FutureWarning: X.dtype being converted to np.float32 from float64. In the next version of anndata (0.9) conversion will not be automatic. Pass dtype explicitly to avoid this warning. Pass `AnnData(X, dtype=X.dtype, ...)` to get the future behavour.\n",
      "  [AnnData(sparse.csr_matrix(a.shape), obs=a.obs) for a in all_adatas],\n"
     ]
    },
    {
     "name": "stdout",
     "output_type": "stream",
     "text": [
      "... reading from cache file cache/Data-GSM5518617-filtered_feature_bc_matrix-matrix.h5ad\n"
     ]
    },
    {
     "name": "stderr",
     "output_type": "stream",
     "text": [
      "/Users/yerrar/opt/miniconda3/envs/scanpy_env_A/lib/python3.9/site-packages/anndata/_core/anndata.py:1785: FutureWarning: X.dtype being converted to np.float32 from float64. In the next version of anndata (0.9) conversion will not be automatic. Pass dtype explicitly to avoid this warning. Pass `AnnData(X, dtype=X.dtype, ...)` to get the future behavour.\n",
      "  [AnnData(sparse.csr_matrix(a.shape), obs=a.obs) for a in all_adatas],\n"
     ]
    },
    {
     "name": "stdout",
     "output_type": "stream",
     "text": [
      "... reading from cache file cache/Data-GSM5518618-filtered_feature_bc_matrix-matrix.h5ad\n"
     ]
    },
    {
     "name": "stderr",
     "output_type": "stream",
     "text": [
      "/Users/yerrar/opt/miniconda3/envs/scanpy_env_A/lib/python3.9/site-packages/anndata/_core/anndata.py:1785: FutureWarning: X.dtype being converted to np.float32 from float64. In the next version of anndata (0.9) conversion will not be automatic. Pass dtype explicitly to avoid this warning. Pass `AnnData(X, dtype=X.dtype, ...)` to get the future behavour.\n",
      "  [AnnData(sparse.csr_matrix(a.shape), obs=a.obs) for a in all_adatas],\n"
     ]
    },
    {
     "name": "stdout",
     "output_type": "stream",
     "text": [
      "... reading from cache file cache/Data-GSM5518619-filtered_feature_bc_matrix-matrix.h5ad\n"
     ]
    },
    {
     "name": "stderr",
     "output_type": "stream",
     "text": [
      "/Users/yerrar/opt/miniconda3/envs/scanpy_env_A/lib/python3.9/site-packages/anndata/_core/anndata.py:1785: FutureWarning: X.dtype being converted to np.float32 from float64. In the next version of anndata (0.9) conversion will not be automatic. Pass dtype explicitly to avoid this warning. Pass `AnnData(X, dtype=X.dtype, ...)` to get the future behavour.\n",
      "  [AnnData(sparse.csr_matrix(a.shape), obs=a.obs) for a in all_adatas],\n"
     ]
    },
    {
     "name": "stdout",
     "output_type": "stream",
     "text": [
      "... reading from cache file cache/Data-GSM5518620-filtered_feature_bc_matrix-matrix.h5ad\n"
     ]
    },
    {
     "name": "stderr",
     "output_type": "stream",
     "text": [
      "/Users/yerrar/opt/miniconda3/envs/scanpy_env_A/lib/python3.9/site-packages/anndata/_core/anndata.py:1785: FutureWarning: X.dtype being converted to np.float32 from float64. In the next version of anndata (0.9) conversion will not be automatic. Pass dtype explicitly to avoid this warning. Pass `AnnData(X, dtype=X.dtype, ...)` to get the future behavour.\n",
      "  [AnnData(sparse.csr_matrix(a.shape), obs=a.obs) for a in all_adatas],\n"
     ]
    },
    {
     "name": "stdout",
     "output_type": "stream",
     "text": [
      "... reading from cache file cache/Data-GSM5518621-filtered_feature_bc_matrix-matrix.h5ad\n"
     ]
    },
    {
     "name": "stderr",
     "output_type": "stream",
     "text": [
      "/Users/yerrar/opt/miniconda3/envs/scanpy_env_A/lib/python3.9/site-packages/anndata/_core/anndata.py:1785: FutureWarning: X.dtype being converted to np.float32 from float64. In the next version of anndata (0.9) conversion will not be automatic. Pass dtype explicitly to avoid this warning. Pass `AnnData(X, dtype=X.dtype, ...)` to get the future behavour.\n",
      "  [AnnData(sparse.csr_matrix(a.shape), obs=a.obs) for a in all_adatas],\n"
     ]
    },
    {
     "name": "stdout",
     "output_type": "stream",
     "text": [
      "... reading from cache file cache/Data-GSM5518622-filtered_feature_bc_matrix-matrix.h5ad\n"
     ]
    },
    {
     "name": "stderr",
     "output_type": "stream",
     "text": [
      "/Users/yerrar/opt/miniconda3/envs/scanpy_env_A/lib/python3.9/site-packages/anndata/_core/anndata.py:1785: FutureWarning: X.dtype being converted to np.float32 from float64. In the next version of anndata (0.9) conversion will not be automatic. Pass dtype explicitly to avoid this warning. Pass `AnnData(X, dtype=X.dtype, ...)` to get the future behavour.\n",
      "  [AnnData(sparse.csr_matrix(a.shape), obs=a.obs) for a in all_adatas],\n"
     ]
    },
    {
     "name": "stdout",
     "output_type": "stream",
     "text": [
      "... reading from cache file cache/Data-GSM5518623-filtered_feature_bc_matrix-matrix.h5ad\n"
     ]
    },
    {
     "name": "stderr",
     "output_type": "stream",
     "text": [
      "/Users/yerrar/opt/miniconda3/envs/scanpy_env_A/lib/python3.9/site-packages/anndata/_core/anndata.py:1785: FutureWarning: X.dtype being converted to np.float32 from float64. In the next version of anndata (0.9) conversion will not be automatic. Pass dtype explicitly to avoid this warning. Pass `AnnData(X, dtype=X.dtype, ...)` to get the future behavour.\n",
      "  [AnnData(sparse.csr_matrix(a.shape), obs=a.obs) for a in all_adatas],\n"
     ]
    },
    {
     "name": "stdout",
     "output_type": "stream",
     "text": [
      "... reading from cache file cache/Data-GSM5518624-filtered_feature_bc_matrix-matrix.h5ad\n"
     ]
    },
    {
     "name": "stderr",
     "output_type": "stream",
     "text": [
      "/Users/yerrar/opt/miniconda3/envs/scanpy_env_A/lib/python3.9/site-packages/anndata/_core/anndata.py:1785: FutureWarning: X.dtype being converted to np.float32 from float64. In the next version of anndata (0.9) conversion will not be automatic. Pass dtype explicitly to avoid this warning. Pass `AnnData(X, dtype=X.dtype, ...)` to get the future behavour.\n",
      "  [AnnData(sparse.csr_matrix(a.shape), obs=a.obs) for a in all_adatas],\n"
     ]
    },
    {
     "name": "stdout",
     "output_type": "stream",
     "text": [
      "... reading from cache file cache/Data-GSM5518625-filtered_feature_bc_matrix-matrix.h5ad\n"
     ]
    },
    {
     "name": "stderr",
     "output_type": "stream",
     "text": [
      "/Users/yerrar/opt/miniconda3/envs/scanpy_env_A/lib/python3.9/site-packages/anndata/_core/anndata.py:1785: FutureWarning: X.dtype being converted to np.float32 from float64. In the next version of anndata (0.9) conversion will not be automatic. Pass dtype explicitly to avoid this warning. Pass `AnnData(X, dtype=X.dtype, ...)` to get the future behavour.\n",
      "  [AnnData(sparse.csr_matrix(a.shape), obs=a.obs) for a in all_adatas],\n"
     ]
    },
    {
     "name": "stdout",
     "output_type": "stream",
     "text": [
      "... reading from cache file cache/Data-GSM5518626-filtered_feature_bc_matrix-matrix.h5ad\n"
     ]
    },
    {
     "name": "stderr",
     "output_type": "stream",
     "text": [
      "/Users/yerrar/opt/miniconda3/envs/scanpy_env_A/lib/python3.9/site-packages/anndata/_core/anndata.py:1785: FutureWarning: X.dtype being converted to np.float32 from float64. In the next version of anndata (0.9) conversion will not be automatic. Pass dtype explicitly to avoid this warning. Pass `AnnData(X, dtype=X.dtype, ...)` to get the future behavour.\n",
      "  [AnnData(sparse.csr_matrix(a.shape), obs=a.obs) for a in all_adatas],\n"
     ]
    },
    {
     "name": "stdout",
     "output_type": "stream",
     "text": [
      "... reading from cache file cache/Data-GSM5518627-filtered_feature_bc_matrix-matrix.h5ad\n"
     ]
    },
    {
     "name": "stderr",
     "output_type": "stream",
     "text": [
      "/Users/yerrar/opt/miniconda3/envs/scanpy_env_A/lib/python3.9/site-packages/anndata/_core/anndata.py:1785: FutureWarning: X.dtype being converted to np.float32 from float64. In the next version of anndata (0.9) conversion will not be automatic. Pass dtype explicitly to avoid this warning. Pass `AnnData(X, dtype=X.dtype, ...)` to get the future behavour.\n",
      "  [AnnData(sparse.csr_matrix(a.shape), obs=a.obs) for a in all_adatas],\n"
     ]
    },
    {
     "name": "stdout",
     "output_type": "stream",
     "text": [
      "... reading from cache file cache/Data-GSM5518628-filtered_feature_bc_matrix-matrix.h5ad\n"
     ]
    },
    {
     "name": "stderr",
     "output_type": "stream",
     "text": [
      "/Users/yerrar/opt/miniconda3/envs/scanpy_env_A/lib/python3.9/site-packages/anndata/_core/anndata.py:1785: FutureWarning: X.dtype being converted to np.float32 from float64. In the next version of anndata (0.9) conversion will not be automatic. Pass dtype explicitly to avoid this warning. Pass `AnnData(X, dtype=X.dtype, ...)` to get the future behavour.\n",
      "  [AnnData(sparse.csr_matrix(a.shape), obs=a.obs) for a in all_adatas],\n"
     ]
    },
    {
     "name": "stdout",
     "output_type": "stream",
     "text": [
      "... reading from cache file cache/Data-GSM5518629-filtered_feature_bc_matrix-matrix.h5ad\n"
     ]
    },
    {
     "name": "stderr",
     "output_type": "stream",
     "text": [
      "/Users/yerrar/opt/miniconda3/envs/scanpy_env_A/lib/python3.9/site-packages/anndata/_core/anndata.py:1785: FutureWarning: X.dtype being converted to np.float32 from float64. In the next version of anndata (0.9) conversion will not be automatic. Pass dtype explicitly to avoid this warning. Pass `AnnData(X, dtype=X.dtype, ...)` to get the future behavour.\n",
      "  [AnnData(sparse.csr_matrix(a.shape), obs=a.obs) for a in all_adatas],\n"
     ]
    },
    {
     "name": "stdout",
     "output_type": "stream",
     "text": [
      "... reading from cache file cache/Data-GSM5518630-filtered_feature_bc_matrix-matrix.h5ad\n"
     ]
    },
    {
     "name": "stderr",
     "output_type": "stream",
     "text": [
      "/Users/yerrar/opt/miniconda3/envs/scanpy_env_A/lib/python3.9/site-packages/anndata/_core/anndata.py:1785: FutureWarning: X.dtype being converted to np.float32 from float64. In the next version of anndata (0.9) conversion will not be automatic. Pass dtype explicitly to avoid this warning. Pass `AnnData(X, dtype=X.dtype, ...)` to get the future behavour.\n",
      "  [AnnData(sparse.csr_matrix(a.shape), obs=a.obs) for a in all_adatas],\n"
     ]
    },
    {
     "name": "stdout",
     "output_type": "stream",
     "text": [
      "... reading from cache file cache/Data-GSM5518631-filtered_feature_bc_matrix-matrix.h5ad\n"
     ]
    },
    {
     "name": "stderr",
     "output_type": "stream",
     "text": [
      "/Users/yerrar/opt/miniconda3/envs/scanpy_env_A/lib/python3.9/site-packages/anndata/_core/anndata.py:1785: FutureWarning: X.dtype being converted to np.float32 from float64. In the next version of anndata (0.9) conversion will not be automatic. Pass dtype explicitly to avoid this warning. Pass `AnnData(X, dtype=X.dtype, ...)` to get the future behavour.\n",
      "  [AnnData(sparse.csr_matrix(a.shape), obs=a.obs) for a in all_adatas],\n"
     ]
    },
    {
     "name": "stdout",
     "output_type": "stream",
     "text": [
      "... reading from cache file cache/Data-GSM5518632-filtered_feature_bc_matrix-matrix.h5ad\n"
     ]
    },
    {
     "name": "stderr",
     "output_type": "stream",
     "text": [
      "/Users/yerrar/opt/miniconda3/envs/scanpy_env_A/lib/python3.9/site-packages/anndata/_core/anndata.py:1785: FutureWarning: X.dtype being converted to np.float32 from float64. In the next version of anndata (0.9) conversion will not be automatic. Pass dtype explicitly to avoid this warning. Pass `AnnData(X, dtype=X.dtype, ...)` to get the future behavour.\n",
      "  [AnnData(sparse.csr_matrix(a.shape), obs=a.obs) for a in all_adatas],\n"
     ]
    },
    {
     "name": "stdout",
     "output_type": "stream",
     "text": [
      "... reading from cache file cache/Data-GSM5518633-filtered_feature_bc_matrix-matrix.h5ad\n"
     ]
    },
    {
     "name": "stderr",
     "output_type": "stream",
     "text": [
      "/Users/yerrar/opt/miniconda3/envs/scanpy_env_A/lib/python3.9/site-packages/anndata/_core/anndata.py:1785: FutureWarning: X.dtype being converted to np.float32 from float64. In the next version of anndata (0.9) conversion will not be automatic. Pass dtype explicitly to avoid this warning. Pass `AnnData(X, dtype=X.dtype, ...)` to get the future behavour.\n",
      "  [AnnData(sparse.csr_matrix(a.shape), obs=a.obs) for a in all_adatas],\n"
     ]
    },
    {
     "name": "stdout",
     "output_type": "stream",
     "text": [
      "... reading from cache file cache/Data-GSM5518634-filtered_feature_bc_matrix-matrix.h5ad\n"
     ]
    },
    {
     "name": "stderr",
     "output_type": "stream",
     "text": [
      "/Users/yerrar/opt/miniconda3/envs/scanpy_env_A/lib/python3.9/site-packages/anndata/_core/anndata.py:1785: FutureWarning: X.dtype being converted to np.float32 from float64. In the next version of anndata (0.9) conversion will not be automatic. Pass dtype explicitly to avoid this warning. Pass `AnnData(X, dtype=X.dtype, ...)` to get the future behavour.\n",
      "  [AnnData(sparse.csr_matrix(a.shape), obs=a.obs) for a in all_adatas],\n"
     ]
    },
    {
     "name": "stdout",
     "output_type": "stream",
     "text": [
      "... reading from cache file cache/Data-GSM5518635-filtered_feature_bc_matrix-matrix.h5ad\n"
     ]
    },
    {
     "name": "stderr",
     "output_type": "stream",
     "text": [
      "/Users/yerrar/opt/miniconda3/envs/scanpy_env_A/lib/python3.9/site-packages/anndata/_core/anndata.py:1785: FutureWarning: X.dtype being converted to np.float32 from float64. In the next version of anndata (0.9) conversion will not be automatic. Pass dtype explicitly to avoid this warning. Pass `AnnData(X, dtype=X.dtype, ...)` to get the future behavour.\n",
      "  [AnnData(sparse.csr_matrix(a.shape), obs=a.obs) for a in all_adatas],\n"
     ]
    },
    {
     "name": "stdout",
     "output_type": "stream",
     "text": [
      "... reading from cache file cache/Data-GSM5518636-filtered_feature_bc_matrix-matrix.h5ad\n"
     ]
    },
    {
     "name": "stderr",
     "output_type": "stream",
     "text": [
      "/Users/yerrar/opt/miniconda3/envs/scanpy_env_A/lib/python3.9/site-packages/anndata/_core/anndata.py:1785: FutureWarning: X.dtype being converted to np.float32 from float64. In the next version of anndata (0.9) conversion will not be automatic. Pass dtype explicitly to avoid this warning. Pass `AnnData(X, dtype=X.dtype, ...)` to get the future behavour.\n",
      "  [AnnData(sparse.csr_matrix(a.shape), obs=a.obs) for a in all_adatas],\n"
     ]
    },
    {
     "name": "stdout",
     "output_type": "stream",
     "text": [
      "... reading from cache file cache/Data-GSM5518637-filtered_feature_bc_matrix-matrix.h5ad\n"
     ]
    },
    {
     "name": "stderr",
     "output_type": "stream",
     "text": [
      "/Users/yerrar/opt/miniconda3/envs/scanpy_env_A/lib/python3.9/site-packages/anndata/_core/anndata.py:1785: FutureWarning: X.dtype being converted to np.float32 from float64. In the next version of anndata (0.9) conversion will not be automatic. Pass dtype explicitly to avoid this warning. Pass `AnnData(X, dtype=X.dtype, ...)` to get the future behavour.\n",
      "  [AnnData(sparse.csr_matrix(a.shape), obs=a.obs) for a in all_adatas],\n"
     ]
    },
    {
     "name": "stdout",
     "output_type": "stream",
     "text": [
      "... reading from cache file cache/Data-GSM5518638-filtered_feature_bc_matrix-matrix.h5ad\n"
     ]
    },
    {
     "name": "stderr",
     "output_type": "stream",
     "text": [
      "/Users/yerrar/opt/miniconda3/envs/scanpy_env_A/lib/python3.9/site-packages/anndata/_core/anndata.py:1785: FutureWarning: X.dtype being converted to np.float32 from float64. In the next version of anndata (0.9) conversion will not be automatic. Pass dtype explicitly to avoid this warning. Pass `AnnData(X, dtype=X.dtype, ...)` to get the future behavour.\n",
      "  [AnnData(sparse.csr_matrix(a.shape), obs=a.obs) for a in all_adatas],\n"
     ]
    },
    {
     "name": "stdout",
     "output_type": "stream",
     "text": [
      "... reading from cache file cache/Data-GSM5518639-filtered_feature_bc_matrix-matrix.h5ad\n"
     ]
    },
    {
     "name": "stderr",
     "output_type": "stream",
     "text": [
      "/Users/yerrar/opt/miniconda3/envs/scanpy_env_A/lib/python3.9/site-packages/anndata/_core/anndata.py:1785: FutureWarning: X.dtype being converted to np.float32 from float64. In the next version of anndata (0.9) conversion will not be automatic. Pass dtype explicitly to avoid this warning. Pass `AnnData(X, dtype=X.dtype, ...)` to get the future behavour.\n",
      "  [AnnData(sparse.csr_matrix(a.shape), obs=a.obs) for a in all_adatas],\n"
     ]
    }
   ],
   "source": [
    "file_names = []\n",
    "\n",
    "for i in range(97, 100):\n",
    "  string = \"GSM55185\" + str(i)\n",
    "  #print(string)\n",
    "  file_names.append(string)\n",
    "\n",
    "for j in range(0, 10):\n",
    "  string = \"GSM551860\" + str(j)\n",
    "  #print(string)\n",
    "  file_names.append(string)\n",
    "\n",
    "for k in range(10, 40):\n",
    "  string = \"GSM55186\" + str(k)\n",
    "  #print(string)\n",
    "  file_names.append(string)\n",
    "\n",
    "print(file_names)\n",
    "\n",
    "x = 2\n",
    "for i in file_names:\n",
    "    string = \"Data/\" + i + \"/filtered_feature_bc_matrix\"\n",
    "    temp = sc.read_10x_mtx(string, var_names='gene_symbols', cache=True)\n",
    "    temp.obs.index = temp.obs.index.str[:-1]\n",
    "    temp.obs.index = temp.obs.index + str(x)\n",
    "    adata = adata.concatenate(temp, index_unique=None)\n",
    "    x+=1"
   ]
  },
  {
   "cell_type": "code",
   "execution_count": 7,
   "id": "53e30b26",
   "metadata": {},
   "outputs": [
    {
     "data": {
      "text/html": [
       "<div>\n",
       "<style scoped>\n",
       "    .dataframe tbody tr th:only-of-type {\n",
       "        vertical-align: middle;\n",
       "    }\n",
       "\n",
       "    .dataframe tbody tr th {\n",
       "        vertical-align: top;\n",
       "    }\n",
       "\n",
       "    .dataframe thead th {\n",
       "        text-align: right;\n",
       "    }\n",
       "</style>\n",
       "<table border=\"1\" class=\"dataframe\">\n",
       "  <thead>\n",
       "    <tr style=\"text-align: right;\">\n",
       "      <th></th>\n",
       "      <th>batch</th>\n",
       "    </tr>\n",
       "  </thead>\n",
       "  <tbody>\n",
       "    <tr>\n",
       "      <th>TTTGTTGGTCCCTCAT-44</th>\n",
       "      <td>1</td>\n",
       "    </tr>\n",
       "    <tr>\n",
       "      <th>TTTGTTGGTGAGATCG-44</th>\n",
       "      <td>1</td>\n",
       "    </tr>\n",
       "    <tr>\n",
       "      <th>TTTGTTGTCCACACCT-44</th>\n",
       "      <td>1</td>\n",
       "    </tr>\n",
       "    <tr>\n",
       "      <th>TTTGTTGTCCTGTAGA-44</th>\n",
       "      <td>1</td>\n",
       "    </tr>\n",
       "    <tr>\n",
       "      <th>TTTGTTGTCTCGACGG-44</th>\n",
       "      <td>1</td>\n",
       "    </tr>\n",
       "  </tbody>\n",
       "</table>\n",
       "</div>"
      ],
      "text/plain": [
       "                    batch\n",
       "TTTGTTGGTCCCTCAT-44     1\n",
       "TTTGTTGGTGAGATCG-44     1\n",
       "TTTGTTGTCCACACCT-44     1\n",
       "TTTGTTGTCCTGTAGA-44     1\n",
       "TTTGTTGTCTCGACGG-44     1"
      ]
     },
     "execution_count": 7,
     "metadata": {},
     "output_type": "execute_result"
    }
   ],
   "source": [
    "adata.obs.tail()"
   ]
  },
  {
   "cell_type": "code",
   "execution_count": 8,
   "id": "16e62ab3",
   "metadata": {},
   "outputs": [],
   "source": [
    "adata.write('./h5ad/Raw_Data_BS.h5ad')"
   ]
  },
  {
   "cell_type": "markdown",
   "id": "bfcf38ea",
   "metadata": {},
   "source": [
    "# Composing Large Meta"
   ]
  },
  {
   "cell_type": "code",
   "execution_count": 10,
   "id": "89b358f5",
   "metadata": {
    "scrolled": true
   },
   "outputs": [
    {
     "data": {
      "text/html": [
       "<div>\n",
       "<style scoped>\n",
       "    .dataframe tbody tr th:only-of-type {\n",
       "        vertical-align: middle;\n",
       "    }\n",
       "\n",
       "    .dataframe tbody tr th {\n",
       "        vertical-align: top;\n",
       "    }\n",
       "\n",
       "    .dataframe thead th {\n",
       "        text-align: right;\n",
       "    }\n",
       "</style>\n",
       "<table border=\"1\" class=\"dataframe\">\n",
       "  <thead>\n",
       "    <tr style=\"text-align: right;\">\n",
       "      <th></th>\n",
       "      <th>Samples</th>\n",
       "      <th>Fragment_Names</th>\n",
       "      <th>Patient_Name</th>\n",
       "      <th>Diagnosis</th>\n",
       "      <th>Grade</th>\n",
       "      <th>Sex</th>\n",
       "      <th>MGMT status</th>\n",
       "      <th>IDH status</th>\n",
       "    </tr>\n",
       "  </thead>\n",
       "  <tbody>\n",
       "    <tr>\n",
       "      <th>0</th>\n",
       "      <td>1</td>\n",
       "      <td>GSM5518596</td>\n",
       "      <td>rGBM-01</td>\n",
       "      <td>recurrent GBM</td>\n",
       "      <td>IV</td>\n",
       "      <td>F</td>\n",
       "      <td>methylated</td>\n",
       "      <td>wt</td>\n",
       "    </tr>\n",
       "    <tr>\n",
       "      <th>1</th>\n",
       "      <td>2</td>\n",
       "      <td>GSM5518597</td>\n",
       "      <td>rGBM-01</td>\n",
       "      <td>recurrent GBM</td>\n",
       "      <td>IV</td>\n",
       "      <td>F</td>\n",
       "      <td>methylated</td>\n",
       "      <td>wt</td>\n",
       "    </tr>\n",
       "    <tr>\n",
       "      <th>2</th>\n",
       "      <td>3</td>\n",
       "      <td>GSM5518598</td>\n",
       "      <td>rGBM-01</td>\n",
       "      <td>recurrent GBM</td>\n",
       "      <td>IV</td>\n",
       "      <td>F</td>\n",
       "      <td>methylated</td>\n",
       "      <td>wt</td>\n",
       "    </tr>\n",
       "    <tr>\n",
       "      <th>3</th>\n",
       "      <td>4</td>\n",
       "      <td>GSM5518599</td>\n",
       "      <td>rGBM-01</td>\n",
       "      <td>recurrent GBM</td>\n",
       "      <td>IV</td>\n",
       "      <td>F</td>\n",
       "      <td>methylated</td>\n",
       "      <td>wt</td>\n",
       "    </tr>\n",
       "    <tr>\n",
       "      <th>4</th>\n",
       "      <td>5</td>\n",
       "      <td>GSM5518600</td>\n",
       "      <td>ndGBM-01</td>\n",
       "      <td>GBM</td>\n",
       "      <td>IV</td>\n",
       "      <td>M</td>\n",
       "      <td>Not obtained</td>\n",
       "      <td>wt</td>\n",
       "    </tr>\n",
       "    <tr>\n",
       "      <th>5</th>\n",
       "      <td>6</td>\n",
       "      <td>GSM5518601</td>\n",
       "      <td>ndGBM-01</td>\n",
       "      <td>GBM</td>\n",
       "      <td>IV</td>\n",
       "      <td>M</td>\n",
       "      <td>Not obtained</td>\n",
       "      <td>wt</td>\n",
       "    </tr>\n",
       "    <tr>\n",
       "      <th>6</th>\n",
       "      <td>7</td>\n",
       "      <td>GSM5518602</td>\n",
       "      <td>ndGBM-01</td>\n",
       "      <td>GBM</td>\n",
       "      <td>IV</td>\n",
       "      <td>M</td>\n",
       "      <td>Not obtained</td>\n",
       "      <td>wt</td>\n",
       "    </tr>\n",
       "    <tr>\n",
       "      <th>7</th>\n",
       "      <td>8</td>\n",
       "      <td>GSM5518603</td>\n",
       "      <td>ndGBM-01</td>\n",
       "      <td>GBM</td>\n",
       "      <td>IV</td>\n",
       "      <td>M</td>\n",
       "      <td>Not obtained</td>\n",
       "      <td>wt</td>\n",
       "    </tr>\n",
       "    <tr>\n",
       "      <th>8</th>\n",
       "      <td>9</td>\n",
       "      <td>GSM5518604</td>\n",
       "      <td>ndGBM-11</td>\n",
       "      <td>GBM</td>\n",
       "      <td>IV</td>\n",
       "      <td>F</td>\n",
       "      <td>Not obtained</td>\n",
       "      <td>wt</td>\n",
       "    </tr>\n",
       "    <tr>\n",
       "      <th>9</th>\n",
       "      <td>10</td>\n",
       "      <td>GSM5518605</td>\n",
       "      <td>ndGBM-11</td>\n",
       "      <td>GBM</td>\n",
       "      <td>IV</td>\n",
       "      <td>F</td>\n",
       "      <td>Not obtained</td>\n",
       "      <td>wt</td>\n",
       "    </tr>\n",
       "    <tr>\n",
       "      <th>10</th>\n",
       "      <td>11</td>\n",
       "      <td>GSM5518606</td>\n",
       "      <td>ndGBM-11</td>\n",
       "      <td>GBM</td>\n",
       "      <td>IV</td>\n",
       "      <td>F</td>\n",
       "      <td>Not obtained</td>\n",
       "      <td>wt</td>\n",
       "    </tr>\n",
       "    <tr>\n",
       "      <th>11</th>\n",
       "      <td>12</td>\n",
       "      <td>GSM5518607</td>\n",
       "      <td>ndGBM-11</td>\n",
       "      <td>GBM</td>\n",
       "      <td>IV</td>\n",
       "      <td>F</td>\n",
       "      <td>Not obtained</td>\n",
       "      <td>wt</td>\n",
       "    </tr>\n",
       "    <tr>\n",
       "      <th>12</th>\n",
       "      <td>13</td>\n",
       "      <td>GSM5518608</td>\n",
       "      <td>ndGBM-02</td>\n",
       "      <td>GBM</td>\n",
       "      <td>IV</td>\n",
       "      <td>M</td>\n",
       "      <td>Not obtained</td>\n",
       "      <td>wt</td>\n",
       "    </tr>\n",
       "    <tr>\n",
       "      <th>13</th>\n",
       "      <td>14</td>\n",
       "      <td>GSM5518609</td>\n",
       "      <td>ndGBM-02</td>\n",
       "      <td>GBM</td>\n",
       "      <td>IV</td>\n",
       "      <td>M</td>\n",
       "      <td>Not obtained</td>\n",
       "      <td>wt</td>\n",
       "    </tr>\n",
       "    <tr>\n",
       "      <th>14</th>\n",
       "      <td>15</td>\n",
       "      <td>GSM5518610</td>\n",
       "      <td>ndGBM-02</td>\n",
       "      <td>GBM</td>\n",
       "      <td>IV</td>\n",
       "      <td>M</td>\n",
       "      <td>Not obtained</td>\n",
       "      <td>wt</td>\n",
       "    </tr>\n",
       "    <tr>\n",
       "      <th>15</th>\n",
       "      <td>16</td>\n",
       "      <td>GSM5518611</td>\n",
       "      <td>ndGBM-02</td>\n",
       "      <td>GBM</td>\n",
       "      <td>IV</td>\n",
       "      <td>M</td>\n",
       "      <td>Not obtained</td>\n",
       "      <td>wt</td>\n",
       "    </tr>\n",
       "    <tr>\n",
       "      <th>16</th>\n",
       "      <td>17</td>\n",
       "      <td>GSM5518612</td>\n",
       "      <td>rGBM-02</td>\n",
       "      <td>recurrent GBM</td>\n",
       "      <td>IV</td>\n",
       "      <td>M</td>\n",
       "      <td>Not obtained</td>\n",
       "      <td>wt</td>\n",
       "    </tr>\n",
       "    <tr>\n",
       "      <th>17</th>\n",
       "      <td>18</td>\n",
       "      <td>GSM5518613</td>\n",
       "      <td>rGBM-02</td>\n",
       "      <td>recurrent GBM</td>\n",
       "      <td>IV</td>\n",
       "      <td>M</td>\n",
       "      <td>Not obtained</td>\n",
       "      <td>wt</td>\n",
       "    </tr>\n",
       "    <tr>\n",
       "      <th>18</th>\n",
       "      <td>19</td>\n",
       "      <td>GSM5518614</td>\n",
       "      <td>rGBM-02</td>\n",
       "      <td>recurrent GBM</td>\n",
       "      <td>IV</td>\n",
       "      <td>M</td>\n",
       "      <td>Not obtained</td>\n",
       "      <td>wt</td>\n",
       "    </tr>\n",
       "    <tr>\n",
       "      <th>19</th>\n",
       "      <td>20</td>\n",
       "      <td>GSM5518615</td>\n",
       "      <td>rGBM-02</td>\n",
       "      <td>recurrent GBM</td>\n",
       "      <td>IV</td>\n",
       "      <td>M</td>\n",
       "      <td>Not obtained</td>\n",
       "      <td>wt</td>\n",
       "    </tr>\n",
       "    <tr>\n",
       "      <th>20</th>\n",
       "      <td>21</td>\n",
       "      <td>GSM5518616</td>\n",
       "      <td>rGBM-03</td>\n",
       "      <td>recurrent GBM</td>\n",
       "      <td>IV</td>\n",
       "      <td>M</td>\n",
       "      <td>Not obtained</td>\n",
       "      <td>NaN</td>\n",
       "    </tr>\n",
       "    <tr>\n",
       "      <th>21</th>\n",
       "      <td>22</td>\n",
       "      <td>GSM5518617</td>\n",
       "      <td>rGBM-03</td>\n",
       "      <td>recurrent GBM</td>\n",
       "      <td>IV</td>\n",
       "      <td>M</td>\n",
       "      <td>Not obtained</td>\n",
       "      <td>NaN</td>\n",
       "    </tr>\n",
       "    <tr>\n",
       "      <th>22</th>\n",
       "      <td>23</td>\n",
       "      <td>GSM5518618</td>\n",
       "      <td>rGBM-03</td>\n",
       "      <td>recurrent GBM</td>\n",
       "      <td>IV</td>\n",
       "      <td>M</td>\n",
       "      <td>Not obtained</td>\n",
       "      <td>NaN</td>\n",
       "    </tr>\n",
       "    <tr>\n",
       "      <th>23</th>\n",
       "      <td>24</td>\n",
       "      <td>GSM5518619</td>\n",
       "      <td>rGBM-04</td>\n",
       "      <td>recurrent GBM</td>\n",
       "      <td>IV</td>\n",
       "      <td>M</td>\n",
       "      <td>unmethylated</td>\n",
       "      <td>wt</td>\n",
       "    </tr>\n",
       "    <tr>\n",
       "      <th>24</th>\n",
       "      <td>25</td>\n",
       "      <td>GSM5518620</td>\n",
       "      <td>rGBM-04</td>\n",
       "      <td>recurrent GBM</td>\n",
       "      <td>IV</td>\n",
       "      <td>M</td>\n",
       "      <td>unmethylated</td>\n",
       "      <td>wt</td>\n",
       "    </tr>\n",
       "    <tr>\n",
       "      <th>25</th>\n",
       "      <td>26</td>\n",
       "      <td>GSM5518621</td>\n",
       "      <td>rGBM-04</td>\n",
       "      <td>recurrent GBM</td>\n",
       "      <td>IV</td>\n",
       "      <td>M</td>\n",
       "      <td>unmethylated</td>\n",
       "      <td>wt</td>\n",
       "    </tr>\n",
       "    <tr>\n",
       "      <th>26</th>\n",
       "      <td>27</td>\n",
       "      <td>GSM5518622</td>\n",
       "      <td>rGBM-04</td>\n",
       "      <td>recurrent GBM</td>\n",
       "      <td>IV</td>\n",
       "      <td>M</td>\n",
       "      <td>unmethylated</td>\n",
       "      <td>wt</td>\n",
       "    </tr>\n",
       "    <tr>\n",
       "      <th>27</th>\n",
       "      <td>28</td>\n",
       "      <td>GSM5518623</td>\n",
       "      <td>ndGBM-03</td>\n",
       "      <td>*GBM</td>\n",
       "      <td>IV</td>\n",
       "      <td>F</td>\n",
       "      <td>unmethylated</td>\n",
       "      <td>wt</td>\n",
       "    </tr>\n",
       "    <tr>\n",
       "      <th>28</th>\n",
       "      <td>29</td>\n",
       "      <td>GSM5518624</td>\n",
       "      <td>ndGBM-03</td>\n",
       "      <td>*GBM</td>\n",
       "      <td>IV</td>\n",
       "      <td>F</td>\n",
       "      <td>unmethylated</td>\n",
       "      <td>wt</td>\n",
       "    </tr>\n",
       "    <tr>\n",
       "      <th>29</th>\n",
       "      <td>30</td>\n",
       "      <td>GSM5518625</td>\n",
       "      <td>ndGBM-03</td>\n",
       "      <td>*GBM</td>\n",
       "      <td>IV</td>\n",
       "      <td>F</td>\n",
       "      <td>unmethylated</td>\n",
       "      <td>wt</td>\n",
       "    </tr>\n",
       "    <tr>\n",
       "      <th>30</th>\n",
       "      <td>31</td>\n",
       "      <td>GSM5518626</td>\n",
       "      <td>rGBM-05</td>\n",
       "      <td>recurrent GBM</td>\n",
       "      <td>IV</td>\n",
       "      <td>F</td>\n",
       "      <td>methylated</td>\n",
       "      <td>wt</td>\n",
       "    </tr>\n",
       "    <tr>\n",
       "      <th>31</th>\n",
       "      <td>32</td>\n",
       "      <td>GSM5518627</td>\n",
       "      <td>rGBM-05</td>\n",
       "      <td>recurrent GBM</td>\n",
       "      <td>IV</td>\n",
       "      <td>F</td>\n",
       "      <td>methylated</td>\n",
       "      <td>wt</td>\n",
       "    </tr>\n",
       "    <tr>\n",
       "      <th>32</th>\n",
       "      <td>33</td>\n",
       "      <td>GSM5518628</td>\n",
       "      <td>rGBM-05</td>\n",
       "      <td>recurrent GBM</td>\n",
       "      <td>IV</td>\n",
       "      <td>F</td>\n",
       "      <td>methylated</td>\n",
       "      <td>wt</td>\n",
       "    </tr>\n",
       "    <tr>\n",
       "      <th>33</th>\n",
       "      <td>34</td>\n",
       "      <td>GSM5518629</td>\n",
       "      <td>ndGBM-10</td>\n",
       "      <td>GBM</td>\n",
       "      <td>IV</td>\n",
       "      <td>F</td>\n",
       "      <td>methylated</td>\n",
       "      <td>wt</td>\n",
       "    </tr>\n",
       "    <tr>\n",
       "      <th>34</th>\n",
       "      <td>35</td>\n",
       "      <td>GSM5518630</td>\n",
       "      <td>LGG-04</td>\n",
       "      <td>Oligodendroglioma</td>\n",
       "      <td>II</td>\n",
       "      <td>M</td>\n",
       "      <td>Not obtained</td>\n",
       "      <td>Mutant</td>\n",
       "    </tr>\n",
       "    <tr>\n",
       "      <th>35</th>\n",
       "      <td>36</td>\n",
       "      <td>GSM5518631</td>\n",
       "      <td>LGG-04</td>\n",
       "      <td>Oligodendroglioma</td>\n",
       "      <td>II</td>\n",
       "      <td>M</td>\n",
       "      <td>Not obtained</td>\n",
       "      <td>Mutant</td>\n",
       "    </tr>\n",
       "    <tr>\n",
       "      <th>36</th>\n",
       "      <td>37</td>\n",
       "      <td>GSM5518632</td>\n",
       "      <td>LGG-04</td>\n",
       "      <td>Oligodendroglioma</td>\n",
       "      <td>II</td>\n",
       "      <td>M</td>\n",
       "      <td>Not obtained</td>\n",
       "      <td>Mutant</td>\n",
       "    </tr>\n",
       "    <tr>\n",
       "      <th>37</th>\n",
       "      <td>38</td>\n",
       "      <td>GSM5518633</td>\n",
       "      <td>ndGBM-04</td>\n",
       "      <td>GBM</td>\n",
       "      <td>IV</td>\n",
       "      <td>F</td>\n",
       "      <td>methylated</td>\n",
       "      <td>wt</td>\n",
       "    </tr>\n",
       "    <tr>\n",
       "      <th>38</th>\n",
       "      <td>39</td>\n",
       "      <td>GSM5518634</td>\n",
       "      <td>ndGBM-05</td>\n",
       "      <td>GBM</td>\n",
       "      <td>IV</td>\n",
       "      <td>M</td>\n",
       "      <td>Not obtained</td>\n",
       "      <td>wt</td>\n",
       "    </tr>\n",
       "    <tr>\n",
       "      <th>39</th>\n",
       "      <td>40</td>\n",
       "      <td>GSM5518635</td>\n",
       "      <td>ndGBM-06</td>\n",
       "      <td>GBM</td>\n",
       "      <td>IV</td>\n",
       "      <td>M</td>\n",
       "      <td>unmethylated</td>\n",
       "      <td>wt</td>\n",
       "    </tr>\n",
       "    <tr>\n",
       "      <th>40</th>\n",
       "      <td>41</td>\n",
       "      <td>GSM5518636</td>\n",
       "      <td>ndGBM-07</td>\n",
       "      <td>GBM</td>\n",
       "      <td>IV</td>\n",
       "      <td>F</td>\n",
       "      <td>Not obtained</td>\n",
       "      <td>wt</td>\n",
       "    </tr>\n",
       "    <tr>\n",
       "      <th>41</th>\n",
       "      <td>42</td>\n",
       "      <td>GSM5518637</td>\n",
       "      <td>ndGBM-08</td>\n",
       "      <td>GBM</td>\n",
       "      <td>IV</td>\n",
       "      <td>M</td>\n",
       "      <td>Not obtained</td>\n",
       "      <td>wt</td>\n",
       "    </tr>\n",
       "    <tr>\n",
       "      <th>42</th>\n",
       "      <td>43</td>\n",
       "      <td>GSM5518638</td>\n",
       "      <td>LGG-03</td>\n",
       "      <td>Diffuse Astrocytoma</td>\n",
       "      <td>II</td>\n",
       "      <td>M</td>\n",
       "      <td>Not obtained</td>\n",
       "      <td>Mutant</td>\n",
       "    </tr>\n",
       "    <tr>\n",
       "      <th>43</th>\n",
       "      <td>44</td>\n",
       "      <td>GSM5518639</td>\n",
       "      <td>ndGBM-09</td>\n",
       "      <td>GBM</td>\n",
       "      <td>IV</td>\n",
       "      <td>M</td>\n",
       "      <td>methylated</td>\n",
       "      <td>wt</td>\n",
       "    </tr>\n",
       "  </tbody>\n",
       "</table>\n",
       "</div>"
      ],
      "text/plain": [
       "    Samples Fragment_Names Patient_Name            Diagnosis Grade Sex  \\\n",
       "0         1     GSM5518596      rGBM-01        recurrent GBM    IV   F   \n",
       "1         2     GSM5518597      rGBM-01        recurrent GBM    IV   F   \n",
       "2         3     GSM5518598      rGBM-01        recurrent GBM    IV   F   \n",
       "3         4     GSM5518599      rGBM-01        recurrent GBM    IV   F   \n",
       "4         5     GSM5518600     ndGBM-01                  GBM    IV   M   \n",
       "5         6     GSM5518601     ndGBM-01                  GBM    IV   M   \n",
       "6         7     GSM5518602     ndGBM-01                  GBM    IV   M   \n",
       "7         8     GSM5518603     ndGBM-01                  GBM    IV   M   \n",
       "8         9     GSM5518604     ndGBM-11                  GBM    IV   F   \n",
       "9        10     GSM5518605     ndGBM-11                  GBM    IV   F   \n",
       "10       11     GSM5518606     ndGBM-11                  GBM    IV   F   \n",
       "11       12     GSM5518607     ndGBM-11                  GBM    IV   F   \n",
       "12       13     GSM5518608     ndGBM-02                  GBM    IV   M   \n",
       "13       14     GSM5518609     ndGBM-02                  GBM    IV   M   \n",
       "14       15     GSM5518610     ndGBM-02                  GBM    IV   M   \n",
       "15       16     GSM5518611     ndGBM-02                  GBM    IV   M   \n",
       "16       17     GSM5518612      rGBM-02        recurrent GBM    IV   M   \n",
       "17       18     GSM5518613      rGBM-02        recurrent GBM    IV   M   \n",
       "18       19     GSM5518614      rGBM-02        recurrent GBM    IV   M   \n",
       "19       20     GSM5518615      rGBM-02        recurrent GBM    IV   M   \n",
       "20       21     GSM5518616      rGBM-03        recurrent GBM    IV   M   \n",
       "21       22     GSM5518617      rGBM-03        recurrent GBM    IV   M   \n",
       "22       23     GSM5518618      rGBM-03        recurrent GBM    IV   M   \n",
       "23       24     GSM5518619      rGBM-04        recurrent GBM    IV   M   \n",
       "24       25     GSM5518620      rGBM-04        recurrent GBM    IV   M   \n",
       "25       26     GSM5518621      rGBM-04        recurrent GBM    IV   M   \n",
       "26       27     GSM5518622      rGBM-04        recurrent GBM    IV   M   \n",
       "27       28     GSM5518623     ndGBM-03                 *GBM    IV   F   \n",
       "28       29     GSM5518624     ndGBM-03                 *GBM    IV   F   \n",
       "29       30     GSM5518625     ndGBM-03                 *GBM    IV   F   \n",
       "30       31     GSM5518626      rGBM-05        recurrent GBM    IV   F   \n",
       "31       32     GSM5518627      rGBM-05        recurrent GBM    IV   F   \n",
       "32       33     GSM5518628      rGBM-05        recurrent GBM    IV   F   \n",
       "33       34     GSM5518629     ndGBM-10                  GBM    IV   F   \n",
       "34       35     GSM5518630       LGG-04    Oligodendroglioma    II   M   \n",
       "35       36     GSM5518631       LGG-04    Oligodendroglioma    II   M   \n",
       "36       37     GSM5518632       LGG-04    Oligodendroglioma    II   M   \n",
       "37       38     GSM5518633     ndGBM-04                  GBM    IV   F   \n",
       "38       39     GSM5518634     ndGBM-05                  GBM    IV   M   \n",
       "39       40     GSM5518635     ndGBM-06                  GBM    IV   M   \n",
       "40       41     GSM5518636     ndGBM-07                  GBM    IV   F   \n",
       "41       42     GSM5518637     ndGBM-08                  GBM    IV   M   \n",
       "42       43     GSM5518638       LGG-03  Diffuse Astrocytoma    II   M   \n",
       "43       44     GSM5518639     ndGBM-09                  GBM    IV   M   \n",
       "\n",
       "      MGMT status IDH status  \n",
       "0      methylated         wt  \n",
       "1      methylated         wt  \n",
       "2      methylated         wt  \n",
       "3      methylated         wt  \n",
       "4    Not obtained         wt  \n",
       "5    Not obtained         wt  \n",
       "6    Not obtained         wt  \n",
       "7    Not obtained         wt  \n",
       "8    Not obtained         wt  \n",
       "9    Not obtained         wt  \n",
       "10   Not obtained         wt  \n",
       "11   Not obtained         wt  \n",
       "12   Not obtained         wt  \n",
       "13   Not obtained         wt  \n",
       "14   Not obtained         wt  \n",
       "15   Not obtained         wt  \n",
       "16   Not obtained         wt  \n",
       "17   Not obtained         wt  \n",
       "18   Not obtained         wt  \n",
       "19   Not obtained         wt  \n",
       "20   Not obtained        NaN  \n",
       "21   Not obtained        NaN  \n",
       "22   Not obtained        NaN  \n",
       "23   unmethylated        wt   \n",
       "24   unmethylated        wt   \n",
       "25   unmethylated        wt   \n",
       "26   unmethylated        wt   \n",
       "27  unmethylated         wt   \n",
       "28  unmethylated         wt   \n",
       "29  unmethylated         wt   \n",
       "30     methylated        wt   \n",
       "31     methylated        wt   \n",
       "32     methylated        wt   \n",
       "33     methylated         wt  \n",
       "34   Not obtained     Mutant  \n",
       "35   Not obtained     Mutant  \n",
       "36   Not obtained     Mutant  \n",
       "37     methylated         wt  \n",
       "38   Not obtained         wt  \n",
       "39   unmethylated         wt  \n",
       "40   Not obtained         wt  \n",
       "41   Not obtained         wt  \n",
       "42   Not obtained     Mutant  \n",
       "43     methylated         wt  "
      ]
     },
     "execution_count": 10,
     "metadata": {},
     "output_type": "execute_result"
    }
   ],
   "source": [
    "meta = adata.obs\n",
    "meta['index'] = meta.index\n",
    "new = meta['index'].str.split(\"-\", n = 1, expand = True) \n",
    "meta['Sample'] = new[1]\n",
    "convert_sample = {'Sample': int}\n",
    "meta = meta.astype(convert_sample) \n",
    "META = adata.obs[['Sample']]\n",
    "\n",
    "meta_new = pd.read_excel('Samples_Info.xlsx')\n",
    "meta_new"
   ]
  },
  {
   "cell_type": "markdown",
   "id": "5fc9a9f4",
   "metadata": {},
   "source": [
    "# Adding Meta to AnnData Object"
   ]
  },
  {
   "cell_type": "code",
   "execution_count": 11,
   "id": "87eb5f25",
   "metadata": {},
   "outputs": [
    {
     "name": "stderr",
     "output_type": "stream",
     "text": [
      "/var/folders/c4/c8ryj8456sgbdnnblqqr93c1hjj33t/T/ipykernel_62933/953091727.py:4: SettingWithCopyWarning: \n",
      "A value is trying to be set on a copy of a slice from a DataFrame.\n",
      "Try using .loc[row_indexer,col_indexer] = value instead\n",
      "\n",
      "See the caveats in the documentation: https://pandas.pydata.org/pandas-docs/stable/user_guide/indexing.html#returning-a-view-versus-a-copy\n",
      "  META.loc[META['Sample']== str(i+1),'Fragment_Names']= meta_new['Fragment_Names'][i]\n"
     ]
    },
    {
     "data": {
      "text/html": [
       "<div>\n",
       "<style scoped>\n",
       "    .dataframe tbody tr th:only-of-type {\n",
       "        vertical-align: middle;\n",
       "    }\n",
       "\n",
       "    .dataframe tbody tr th {\n",
       "        vertical-align: top;\n",
       "    }\n",
       "\n",
       "    .dataframe thead th {\n",
       "        text-align: right;\n",
       "    }\n",
       "</style>\n",
       "<table border=\"1\" class=\"dataframe\">\n",
       "  <thead>\n",
       "    <tr style=\"text-align: right;\">\n",
       "      <th></th>\n",
       "      <th>Sample</th>\n",
       "      <th>Fragment_Names</th>\n",
       "      <th>Patient_Name</th>\n",
       "      <th>Grade</th>\n",
       "      <th>Sex</th>\n",
       "      <th>MGMT status</th>\n",
       "      <th>IDH status</th>\n",
       "    </tr>\n",
       "  </thead>\n",
       "  <tbody>\n",
       "    <tr>\n",
       "      <th>TTTGTTGGTCCCTCAT-44</th>\n",
       "      <td>44</td>\n",
       "      <td>GSM5518639</td>\n",
       "      <td>ndGBM-09</td>\n",
       "      <td>IV</td>\n",
       "      <td>M</td>\n",
       "      <td>methylated</td>\n",
       "      <td>wt</td>\n",
       "    </tr>\n",
       "    <tr>\n",
       "      <th>TTTGTTGGTGAGATCG-44</th>\n",
       "      <td>44</td>\n",
       "      <td>GSM5518639</td>\n",
       "      <td>ndGBM-09</td>\n",
       "      <td>IV</td>\n",
       "      <td>M</td>\n",
       "      <td>methylated</td>\n",
       "      <td>wt</td>\n",
       "    </tr>\n",
       "    <tr>\n",
       "      <th>TTTGTTGTCCACACCT-44</th>\n",
       "      <td>44</td>\n",
       "      <td>GSM5518639</td>\n",
       "      <td>ndGBM-09</td>\n",
       "      <td>IV</td>\n",
       "      <td>M</td>\n",
       "      <td>methylated</td>\n",
       "      <td>wt</td>\n",
       "    </tr>\n",
       "    <tr>\n",
       "      <th>TTTGTTGTCCTGTAGA-44</th>\n",
       "      <td>44</td>\n",
       "      <td>GSM5518639</td>\n",
       "      <td>ndGBM-09</td>\n",
       "      <td>IV</td>\n",
       "      <td>M</td>\n",
       "      <td>methylated</td>\n",
       "      <td>wt</td>\n",
       "    </tr>\n",
       "    <tr>\n",
       "      <th>TTTGTTGTCTCGACGG-44</th>\n",
       "      <td>44</td>\n",
       "      <td>GSM5518639</td>\n",
       "      <td>ndGBM-09</td>\n",
       "      <td>IV</td>\n",
       "      <td>M</td>\n",
       "      <td>methylated</td>\n",
       "      <td>wt</td>\n",
       "    </tr>\n",
       "  </tbody>\n",
       "</table>\n",
       "</div>"
      ],
      "text/plain": [
       "                    Sample Fragment_Names Patient_Name Grade Sex MGMT status  \\\n",
       "TTTGTTGGTCCCTCAT-44     44     GSM5518639     ndGBM-09    IV   M  methylated   \n",
       "TTTGTTGGTGAGATCG-44     44     GSM5518639     ndGBM-09    IV   M  methylated   \n",
       "TTTGTTGTCCACACCT-44     44     GSM5518639     ndGBM-09    IV   M  methylated   \n",
       "TTTGTTGTCCTGTAGA-44     44     GSM5518639     ndGBM-09    IV   M  methylated   \n",
       "TTTGTTGTCTCGACGG-44     44     GSM5518639     ndGBM-09    IV   M  methylated   \n",
       "\n",
       "                    IDH status  \n",
       "TTTGTTGGTCCCTCAT-44         wt  \n",
       "TTTGTTGGTGAGATCG-44         wt  \n",
       "TTTGTTGTCCACACCT-44         wt  \n",
       "TTTGTTGTCCTGTAGA-44         wt  \n",
       "TTTGTTGTCTCGACGG-44         wt  "
      ]
     },
     "execution_count": 11,
     "metadata": {},
     "output_type": "execute_result"
    }
   ],
   "source": [
    "nbr = list(range(0,44))\n",
    "\n",
    "for i in nbr:\n",
    "    META.loc[META['Sample']== str(i+1),'Fragment_Names']= meta_new['Fragment_Names'][i]\n",
    "    META.loc[META['Sample']== str(i+1),'Patient_Name']= meta_new['Patient_Name'][i]\n",
    "    META.loc[META['Sample']== str(i+1),'Grade']= meta_new['Grade'][i]\n",
    "    META.loc[META['Sample']== str(i+1),'Sex']= meta_new['Sex'][i]\n",
    "    META.loc[META['Sample']== str(i+1),'MGMT status']= meta_new['MGMT status'][i]\n",
    "    META.loc[META['Sample']== str(i+1),'IDH status']= meta_new['IDH status'][i]\n",
    "\n",
    "\n",
    "META.tail(5)"
   ]
  },
  {
   "cell_type": "code",
   "execution_count": 15,
   "id": "d2a745f0",
   "metadata": {},
   "outputs": [
    {
     "data": {
      "text/html": [
       "<div>\n",
       "<style scoped>\n",
       "    .dataframe tbody tr th:only-of-type {\n",
       "        vertical-align: middle;\n",
       "    }\n",
       "\n",
       "    .dataframe tbody tr th {\n",
       "        vertical-align: top;\n",
       "    }\n",
       "\n",
       "    .dataframe thead th {\n",
       "        text-align: right;\n",
       "    }\n",
       "</style>\n",
       "<table border=\"1\" class=\"dataframe\">\n",
       "  <thead>\n",
       "    <tr style=\"text-align: right;\">\n",
       "      <th></th>\n",
       "      <th>feature_types</th>\n",
       "      <th>gene_ids</th>\n",
       "    </tr>\n",
       "  </thead>\n",
       "  <tbody>\n",
       "    <tr>\n",
       "      <th>MIR1302-2HG</th>\n",
       "      <td>Gene Expression</td>\n",
       "      <td>ENSG00000243485</td>\n",
       "    </tr>\n",
       "    <tr>\n",
       "      <th>FAM138A</th>\n",
       "      <td>Gene Expression</td>\n",
       "      <td>ENSG00000237613</td>\n",
       "    </tr>\n",
       "    <tr>\n",
       "      <th>OR4F5</th>\n",
       "      <td>Gene Expression</td>\n",
       "      <td>ENSG00000186092</td>\n",
       "    </tr>\n",
       "    <tr>\n",
       "      <th>AL627309.1</th>\n",
       "      <td>Gene Expression</td>\n",
       "      <td>ENSG00000238009</td>\n",
       "    </tr>\n",
       "    <tr>\n",
       "      <th>AL627309.3</th>\n",
       "      <td>Gene Expression</td>\n",
       "      <td>ENSG00000239945</td>\n",
       "    </tr>\n",
       "    <tr>\n",
       "      <th>...</th>\n",
       "      <td>...</td>\n",
       "      <td>...</td>\n",
       "    </tr>\n",
       "    <tr>\n",
       "      <th>AC141272.1</th>\n",
       "      <td>Gene Expression</td>\n",
       "      <td>ENSG00000277836</td>\n",
       "    </tr>\n",
       "    <tr>\n",
       "      <th>AC023491.2</th>\n",
       "      <td>Gene Expression</td>\n",
       "      <td>ENSG00000278633</td>\n",
       "    </tr>\n",
       "    <tr>\n",
       "      <th>AC007325.1</th>\n",
       "      <td>Gene Expression</td>\n",
       "      <td>ENSG00000276017</td>\n",
       "    </tr>\n",
       "    <tr>\n",
       "      <th>AC007325.4</th>\n",
       "      <td>Gene Expression</td>\n",
       "      <td>ENSG00000278817</td>\n",
       "    </tr>\n",
       "    <tr>\n",
       "      <th>AC007325.2</th>\n",
       "      <td>Gene Expression</td>\n",
       "      <td>ENSG00000277196</td>\n",
       "    </tr>\n",
       "  </tbody>\n",
       "</table>\n",
       "<p>31915 rows × 2 columns</p>\n",
       "</div>"
      ],
      "text/plain": [
       "               feature_types         gene_ids\n",
       "MIR1302-2HG  Gene Expression  ENSG00000243485\n",
       "FAM138A      Gene Expression  ENSG00000237613\n",
       "OR4F5        Gene Expression  ENSG00000186092\n",
       "AL627309.1   Gene Expression  ENSG00000238009\n",
       "AL627309.3   Gene Expression  ENSG00000239945\n",
       "...                      ...              ...\n",
       "AC141272.1   Gene Expression  ENSG00000277836\n",
       "AC023491.2   Gene Expression  ENSG00000278633\n",
       "AC007325.1   Gene Expression  ENSG00000276017\n",
       "AC007325.4   Gene Expression  ENSG00000278817\n",
       "AC007325.2   Gene Expression  ENSG00000277196\n",
       "\n",
       "[31915 rows x 2 columns]"
      ]
     },
     "execution_count": 15,
     "metadata": {},
     "output_type": "execute_result"
    }
   ],
   "source": [
    "adata.var = adata.var.loc[:, ['feature_types','gene_ids-1']]\n",
    "adata.var['gene_ids'] = adata.var['gene_ids-1']\n",
    "adata.var = adata.var.loc[:, ['feature_types','gene_ids']]\n",
    "adata.var"
   ]
  },
  {
   "cell_type": "code",
   "execution_count": 16,
   "id": "791a7b15",
   "metadata": {},
   "outputs": [
    {
     "data": {
      "text/plain": [
       "AnnData object with n_obs × n_vars = 264951 × 31915\n",
       "    obs: 'batch', 'index', 'Sample', 'Fragment_Names', 'Patient_Name', 'Grade', 'Sex', 'MGMT_status', 'IDH_status'\n",
       "    var: 'feature_types', 'gene_ids'"
      ]
     },
     "execution_count": 16,
     "metadata": {},
     "output_type": "execute_result"
    }
   ],
   "source": [
    "adata.obs['Sample'] = META['Sample']\n",
    "adata.obs['Fragment_Names'] = META['Fragment_Names']\n",
    "adata.obs['Patient_Name'] = META['Patient_Name']\n",
    "adata.obs['Grade'] = META['Grade']\n",
    "adata.obs['Sex'] = META['Sex']\n",
    "adata.obs['MGMT_status'] = META['MGMT status']\n",
    "adata.obs['IDH_status'] = META['IDH status']\n",
    "adata"
   ]
  },
  {
   "cell_type": "code",
   "execution_count": 17,
   "id": "a3612f8a",
   "metadata": {},
   "outputs": [],
   "source": [
    "adata.write('./H5AD/GBM_withSampleInfo.h5ad')"
   ]
  },
  {
   "cell_type": "markdown",
   "id": "01b095ed",
   "metadata": {},
   "source": [
    "# Running Scrublet"
   ]
  },
  {
   "cell_type": "code",
   "execution_count": 18,
   "id": "1c15ca7b",
   "metadata": {},
   "outputs": [
    {
     "data": {
      "text/plain": [
       "AnnData object with n_obs × n_vars = 264951 × 31915\n",
       "    obs: 'batch', 'index', 'Sample', 'Fragment_Names', 'Patient_Name', 'Grade', 'Sex', 'MGMT_status', 'IDH_status'\n",
       "    var: 'feature_types', 'gene_ids'"
      ]
     },
     "execution_count": 18,
     "metadata": {},
     "output_type": "execute_result"
    }
   ],
   "source": [
    "adata_BS =sc.read('./H5AD/GBM_withSampleInfo.h5ad')\n",
    "adata_BS"
   ]
  },
  {
   "cell_type": "code",
   "execution_count": 19,
   "id": "a4b67cd4",
   "metadata": {},
   "outputs": [
    {
     "data": {
      "text/plain": [
       "array(['GSM5518596', 'GSM5518597', 'GSM5518598', 'GSM5518599',\n",
       "       'GSM5518600', 'GSM5518601', 'GSM5518602', 'GSM5518603',\n",
       "       'GSM5518604', 'GSM5518605', 'GSM5518606', 'GSM5518607',\n",
       "       'GSM5518608', 'GSM5518609', 'GSM5518610', 'GSM5518611',\n",
       "       'GSM5518612', 'GSM5518613', 'GSM5518614', 'GSM5518615',\n",
       "       'GSM5518616', 'GSM5518617', 'GSM5518618', 'GSM5518619',\n",
       "       'GSM5518620', 'GSM5518621', 'GSM5518622', 'GSM5518623',\n",
       "       'GSM5518624', 'GSM5518625', 'GSM5518626', 'GSM5518627',\n",
       "       'GSM5518628', 'GSM5518629', 'GSM5518630', 'GSM5518631',\n",
       "       'GSM5518632', 'GSM5518633', 'GSM5518634', 'GSM5518635',\n",
       "       'GSM5518636', 'GSM5518637', 'GSM5518638', 'GSM5518639'],\n",
       "      dtype='<U10')"
      ]
     },
     "execution_count": 19,
     "metadata": {},
     "output_type": "execute_result"
    }
   ],
   "source": [
    "names = np.unique(list(adata_BS.obs['Fragment_Names']))\n",
    "names"
   ]
  },
  {
   "cell_type": "code",
   "execution_count": 20,
   "id": "cc1be2b1",
   "metadata": {},
   "outputs": [
    {
     "data": {
      "text/plain": [
       "44"
      ]
     },
     "execution_count": 20,
     "metadata": {},
     "output_type": "execute_result"
    }
   ],
   "source": [
    "len(names)"
   ]
  },
  {
   "cell_type": "code",
   "execution_count": 21,
   "id": "1460126b",
   "metadata": {
    "scrolled": true
   },
   "outputs": [
    {
     "name": "stdout",
     "output_type": "stream",
     "text": [
      "Preprocessing...\n",
      "Simulating doublets...\n",
      "Embedding transcriptomes using PCA...\n",
      "Calculating doublet scores...\n",
      "Automatically set threshold at doublet score = 0.58\n",
      "Detected doublet rate = 0.1%\n",
      "Estimated detectable doublet fraction = 0.3%\n",
      "Overall doublet rate:\n",
      "\tExpected   = 6.0%\n",
      "\tEstimated  = 20.7%\n",
      "Elapsed time: 6.8 seconds\n",
      "Running UMAP..\n"
     ]
    },
    {
     "name": "stderr",
     "output_type": "stream",
     "text": [
      "/Users/yerrar/opt/miniconda3/envs/scanpy_env_A/lib/python3.9/site-packages/tqdm/auto.py:22: TqdmWarning: IProgress not found. Please update jupyter and ipywidgets. See https://ipywidgets.readthedocs.io/en/stable/user_install.html\n",
      "  from .autonotebook import tqdm as notebook_tqdm\n"
     ]
    },
    {
     "name": "stdout",
     "output_type": "stream",
     "text": [
      "Done.\n"
     ]
    },
    {
     "name": "stderr",
     "output_type": "stream",
     "text": [
      "/var/folders/c4/c8ryj8456sgbdnnblqqr93c1hjj33t/T/ipykernel_62933/3701244909.py:25: ImplicitModificationWarning: Trying to modify attribute `.obs` of view, initializing view as actual.\n",
      "  adata_i.obs['doublet_score']=scrub.doublet_scores_obs_\n"
     ]
    },
    {
     "name": "stdout",
     "output_type": "stream",
     "text": [
      "Preprocessing...\n",
      "Simulating doublets...\n",
      "Embedding transcriptomes using PCA...\n",
      "Calculating doublet scores...\n",
      "Automatically set threshold at doublet score = 0.44\n",
      "Detected doublet rate = 0.0%\n",
      "Estimated detectable doublet fraction = 0.2%\n",
      "Overall doublet rate:\n",
      "\tExpected   = 6.0%\n",
      "\tEstimated  = 13.6%\n",
      "Elapsed time: 18.8 seconds\n",
      "Running UMAP..\n",
      "Done.\n"
     ]
    },
    {
     "name": "stderr",
     "output_type": "stream",
     "text": [
      "/var/folders/c4/c8ryj8456sgbdnnblqqr93c1hjj33t/T/ipykernel_62933/3701244909.py:25: ImplicitModificationWarning: Trying to modify attribute `.obs` of view, initializing view as actual.\n",
      "  adata_i.obs['doublet_score']=scrub.doublet_scores_obs_\n"
     ]
    },
    {
     "name": "stdout",
     "output_type": "stream",
     "text": [
      "Preprocessing...\n",
      "Simulating doublets...\n",
      "Embedding transcriptomes using PCA...\n",
      "Calculating doublet scores...\n",
      "Automatically set threshold at doublet score = 0.43\n",
      "Detected doublet rate = 0.0%\n",
      "Estimated detectable doublet fraction = 0.2%\n",
      "Overall doublet rate:\n",
      "\tExpected   = 6.0%\n",
      "\tEstimated  = 0.0%\n",
      "Elapsed time: 6.3 seconds\n",
      "Running UMAP..\n",
      "Done.\n"
     ]
    },
    {
     "name": "stderr",
     "output_type": "stream",
     "text": [
      "/var/folders/c4/c8ryj8456sgbdnnblqqr93c1hjj33t/T/ipykernel_62933/3701244909.py:25: ImplicitModificationWarning: Trying to modify attribute `.obs` of view, initializing view as actual.\n",
      "  adata_i.obs['doublet_score']=scrub.doublet_scores_obs_\n"
     ]
    },
    {
     "name": "stdout",
     "output_type": "stream",
     "text": [
      "Preprocessing...\n",
      "Simulating doublets...\n",
      "Embedding transcriptomes using PCA...\n",
      "Calculating doublet scores...\n",
      "Automatically set threshold at doublet score = 0.54\n",
      "Detected doublet rate = 0.0%\n",
      "Estimated detectable doublet fraction = 0.6%\n",
      "Overall doublet rate:\n",
      "\tExpected   = 6.0%\n",
      "\tEstimated  = 8.0%\n",
      "Elapsed time: 7.9 seconds\n",
      "Running UMAP..\n",
      "Done.\n"
     ]
    },
    {
     "name": "stderr",
     "output_type": "stream",
     "text": [
      "/var/folders/c4/c8ryj8456sgbdnnblqqr93c1hjj33t/T/ipykernel_62933/3701244909.py:25: ImplicitModificationWarning: Trying to modify attribute `.obs` of view, initializing view as actual.\n",
      "  adata_i.obs['doublet_score']=scrub.doublet_scores_obs_\n"
     ]
    },
    {
     "name": "stdout",
     "output_type": "stream",
     "text": [
      "Preprocessing...\n",
      "Simulating doublets...\n",
      "Embedding transcriptomes using PCA...\n",
      "Calculating doublet scores...\n",
      "Automatically set threshold at doublet score = 0.35\n",
      "Detected doublet rate = 0.5%\n",
      "Estimated detectable doublet fraction = 7.4%\n",
      "Overall doublet rate:\n",
      "\tExpected   = 6.0%\n",
      "\tEstimated  = 6.2%\n",
      "Elapsed time: 5.7 seconds\n",
      "Running UMAP..\n",
      "Done.\n"
     ]
    },
    {
     "name": "stderr",
     "output_type": "stream",
     "text": [
      "/var/folders/c4/c8ryj8456sgbdnnblqqr93c1hjj33t/T/ipykernel_62933/3701244909.py:25: ImplicitModificationWarning: Trying to modify attribute `.obs` of view, initializing view as actual.\n",
      "  adata_i.obs['doublet_score']=scrub.doublet_scores_obs_\n"
     ]
    },
    {
     "name": "stdout",
     "output_type": "stream",
     "text": [
      "Preprocessing...\n",
      "Simulating doublets...\n",
      "Embedding transcriptomes using PCA...\n",
      "Calculating doublet scores...\n",
      "Automatically set threshold at doublet score = 0.59\n",
      "Detected doublet rate = 0.0%\n",
      "Estimated detectable doublet fraction = 0.0%\n",
      "Overall doublet rate:\n",
      "\tExpected   = 6.0%\n",
      "\tEstimated  = 0.0%\n",
      "Elapsed time: 17.0 seconds\n",
      "Running UMAP..\n",
      "Done.\n"
     ]
    },
    {
     "name": "stderr",
     "output_type": "stream",
     "text": [
      "/var/folders/c4/c8ryj8456sgbdnnblqqr93c1hjj33t/T/ipykernel_62933/3701244909.py:25: ImplicitModificationWarning: Trying to modify attribute `.obs` of view, initializing view as actual.\n",
      "  adata_i.obs['doublet_score']=scrub.doublet_scores_obs_\n"
     ]
    },
    {
     "name": "stdout",
     "output_type": "stream",
     "text": [
      "Preprocessing...\n",
      "Simulating doublets...\n",
      "Embedding transcriptomes using PCA...\n",
      "Calculating doublet scores...\n",
      "Automatically set threshold at doublet score = 0.24\n",
      "Detected doublet rate = 2.6%\n",
      "Estimated detectable doublet fraction = 29.0%\n",
      "Overall doublet rate:\n",
      "\tExpected   = 6.0%\n",
      "\tEstimated  = 8.8%\n",
      "Elapsed time: 13.7 seconds\n",
      "Running UMAP..\n",
      "Done.\n"
     ]
    },
    {
     "name": "stderr",
     "output_type": "stream",
     "text": [
      "/var/folders/c4/c8ryj8456sgbdnnblqqr93c1hjj33t/T/ipykernel_62933/3701244909.py:25: ImplicitModificationWarning: Trying to modify attribute `.obs` of view, initializing view as actual.\n",
      "  adata_i.obs['doublet_score']=scrub.doublet_scores_obs_\n"
     ]
    },
    {
     "name": "stdout",
     "output_type": "stream",
     "text": [
      "Preprocessing...\n",
      "Simulating doublets...\n",
      "Embedding transcriptomes using PCA...\n",
      "Calculating doublet scores...\n",
      "Automatically set threshold at doublet score = 0.32\n",
      "Detected doublet rate = 1.4%\n",
      "Estimated detectable doublet fraction = 20.2%\n",
      "Overall doublet rate:\n",
      "\tExpected   = 6.0%\n",
      "\tEstimated  = 6.7%\n",
      "Elapsed time: 5.6 seconds\n",
      "Running UMAP..\n",
      "Done.\n",
      "Preprocessing...\n",
      "Simulating doublets...\n"
     ]
    },
    {
     "name": "stderr",
     "output_type": "stream",
     "text": [
      "/var/folders/c4/c8ryj8456sgbdnnblqqr93c1hjj33t/T/ipykernel_62933/3701244909.py:25: ImplicitModificationWarning: Trying to modify attribute `.obs` of view, initializing view as actual.\n",
      "  adata_i.obs['doublet_score']=scrub.doublet_scores_obs_\n"
     ]
    },
    {
     "name": "stdout",
     "output_type": "stream",
     "text": [
      "Embedding transcriptomes using PCA...\n",
      "Calculating doublet scores...\n",
      "Automatically set threshold at doublet score = 0.35\n",
      "Detected doublet rate = 0.9%\n",
      "Estimated detectable doublet fraction = 20.9%\n",
      "Overall doublet rate:\n",
      "\tExpected   = 6.0%\n",
      "\tEstimated  = 4.2%\n",
      "Elapsed time: 0.4 seconds\n",
      "Running UMAP..\n",
      "Done.\n",
      "Preprocessing...\n",
      "Simulating doublets...\n",
      "Embedding transcriptomes using PCA...\n",
      "Calculating doublet scores...\n"
     ]
    },
    {
     "name": "stderr",
     "output_type": "stream",
     "text": [
      "/var/folders/c4/c8ryj8456sgbdnnblqqr93c1hjj33t/T/ipykernel_62933/3701244909.py:25: ImplicitModificationWarning: Trying to modify attribute `.obs` of view, initializing view as actual.\n",
      "  adata_i.obs['doublet_score']=scrub.doublet_scores_obs_\n",
      "/Users/yerrar/opt/miniconda3/envs/scanpy_env_A/lib/python3.9/site-packages/scrublet/helper_functions.py:253: RuntimeWarning: invalid value encountered in sqrt\n",
      "  CV_eff = np.sqrt((1+a)*(1+b) - 1);\n"
     ]
    },
    {
     "name": "stdout",
     "output_type": "stream",
     "text": [
      "Automatically set threshold at doublet score = 0.32\n",
      "Detected doublet rate = 1.3%\n",
      "Estimated detectable doublet fraction = 4.0%\n",
      "Overall doublet rate:\n",
      "\tExpected   = 6.0%\n",
      "\tEstimated  = 31.8%\n",
      "Elapsed time: 0.2 seconds\n",
      "Running UMAP..\n",
      "Done.\n",
      "Preprocessing...\n"
     ]
    },
    {
     "name": "stderr",
     "output_type": "stream",
     "text": [
      "/var/folders/c4/c8ryj8456sgbdnnblqqr93c1hjj33t/T/ipykernel_62933/3701244909.py:25: ImplicitModificationWarning: Trying to modify attribute `.obs` of view, initializing view as actual.\n",
      "  adata_i.obs['doublet_score']=scrub.doublet_scores_obs_\n"
     ]
    },
    {
     "name": "stdout",
     "output_type": "stream",
     "text": [
      "Simulating doublets...\n",
      "Embedding transcriptomes using PCA...\n",
      "Calculating doublet scores...\n",
      "Automatically set threshold at doublet score = 0.51\n",
      "Detected doublet rate = 0.0%\n",
      "Estimated detectable doublet fraction = 0.6%\n",
      "Overall doublet rate:\n",
      "\tExpected   = 6.0%\n",
      "\tEstimated  = 5.3%\n",
      "Elapsed time: 1.9 seconds\n",
      "Running UMAP..\n",
      "Done.\n",
      "Preprocessing...\n"
     ]
    },
    {
     "name": "stderr",
     "output_type": "stream",
     "text": [
      "/var/folders/c4/c8ryj8456sgbdnnblqqr93c1hjj33t/T/ipykernel_62933/3701244909.py:25: ImplicitModificationWarning: Trying to modify attribute `.obs` of view, initializing view as actual.\n",
      "  adata_i.obs['doublet_score']=scrub.doublet_scores_obs_\n"
     ]
    },
    {
     "name": "stdout",
     "output_type": "stream",
     "text": [
      "Simulating doublets...\n",
      "Embedding transcriptomes using PCA...\n",
      "Calculating doublet scores...\n",
      "Automatically set threshold at doublet score = 0.45\n",
      "Detected doublet rate = 0.2%\n",
      "Estimated detectable doublet fraction = 0.9%\n",
      "Overall doublet rate:\n",
      "\tExpected   = 6.0%\n",
      "\tEstimated  = 21.4%\n",
      "Elapsed time: 1.1 seconds\n",
      "Running UMAP..\n",
      "Done.\n"
     ]
    },
    {
     "name": "stderr",
     "output_type": "stream",
     "text": [
      "/var/folders/c4/c8ryj8456sgbdnnblqqr93c1hjj33t/T/ipykernel_62933/3701244909.py:25: ImplicitModificationWarning: Trying to modify attribute `.obs` of view, initializing view as actual.\n",
      "  adata_i.obs['doublet_score']=scrub.doublet_scores_obs_\n"
     ]
    },
    {
     "name": "stdout",
     "output_type": "stream",
     "text": [
      "Preprocessing...\n",
      "Simulating doublets...\n",
      "Embedding transcriptomes using PCA...\n",
      "Calculating doublet scores...\n",
      "Automatically set threshold at doublet score = 0.67\n",
      "Detected doublet rate = 0.0%\n",
      "Estimated detectable doublet fraction = 0.1%\n",
      "Overall doublet rate:\n",
      "\tExpected   = 6.0%\n",
      "\tEstimated  = 11.8%\n",
      "Elapsed time: 13.9 seconds\n",
      "Running UMAP..\n",
      "Done.\n"
     ]
    },
    {
     "name": "stderr",
     "output_type": "stream",
     "text": [
      "/var/folders/c4/c8ryj8456sgbdnnblqqr93c1hjj33t/T/ipykernel_62933/3701244909.py:25: ImplicitModificationWarning: Trying to modify attribute `.obs` of view, initializing view as actual.\n",
      "  adata_i.obs['doublet_score']=scrub.doublet_scores_obs_\n"
     ]
    },
    {
     "name": "stdout",
     "output_type": "stream",
     "text": [
      "Preprocessing...\n",
      "Simulating doublets...\n",
      "Embedding transcriptomes using PCA...\n",
      "Calculating doublet scores...\n",
      "Automatically set threshold at doublet score = 0.63\n",
      "Detected doublet rate = 0.0%\n",
      "Estimated detectable doublet fraction = 0.5%\n",
      "Overall doublet rate:\n",
      "\tExpected   = 6.0%\n",
      "\tEstimated  = 6.2%\n",
      "Elapsed time: 7.8 seconds\n",
      "Running UMAP..\n",
      "Done.\n"
     ]
    },
    {
     "name": "stderr",
     "output_type": "stream",
     "text": [
      "/var/folders/c4/c8ryj8456sgbdnnblqqr93c1hjj33t/T/ipykernel_62933/3701244909.py:25: ImplicitModificationWarning: Trying to modify attribute `.obs` of view, initializing view as actual.\n",
      "  adata_i.obs['doublet_score']=scrub.doublet_scores_obs_\n"
     ]
    },
    {
     "name": "stdout",
     "output_type": "stream",
     "text": [
      "Preprocessing...\n",
      "Simulating doublets...\n",
      "Embedding transcriptomes using PCA...\n",
      "Calculating doublet scores...\n",
      "Automatically set threshold at doublet score = 0.27\n",
      "Detected doublet rate = 1.9%\n",
      "Estimated detectable doublet fraction = 22.8%\n",
      "Overall doublet rate:\n",
      "\tExpected   = 6.0%\n",
      "\tEstimated  = 8.5%\n",
      "Elapsed time: 8.7 seconds\n",
      "Running UMAP..\n",
      "Done.\n"
     ]
    },
    {
     "name": "stderr",
     "output_type": "stream",
     "text": [
      "/var/folders/c4/c8ryj8456sgbdnnblqqr93c1hjj33t/T/ipykernel_62933/3701244909.py:25: ImplicitModificationWarning: Trying to modify attribute `.obs` of view, initializing view as actual.\n",
      "  adata_i.obs['doublet_score']=scrub.doublet_scores_obs_\n"
     ]
    },
    {
     "name": "stdout",
     "output_type": "stream",
     "text": [
      "Preprocessing...\n",
      "Simulating doublets...\n",
      "Embedding transcriptomes using PCA...\n",
      "Calculating doublet scores...\n",
      "Automatically set threshold at doublet score = 0.66\n",
      "Detected doublet rate = 0.0%\n",
      "Estimated detectable doublet fraction = 0.3%\n",
      "Overall doublet rate:\n",
      "\tExpected   = 6.0%\n",
      "\tEstimated  = 0.0%\n",
      "Elapsed time: 12.6 seconds\n",
      "Running UMAP..\n",
      "Done.\n"
     ]
    },
    {
     "name": "stderr",
     "output_type": "stream",
     "text": [
      "/var/folders/c4/c8ryj8456sgbdnnblqqr93c1hjj33t/T/ipykernel_62933/3701244909.py:25: ImplicitModificationWarning: Trying to modify attribute `.obs` of view, initializing view as actual.\n",
      "  adata_i.obs['doublet_score']=scrub.doublet_scores_obs_\n"
     ]
    },
    {
     "name": "stdout",
     "output_type": "stream",
     "text": [
      "Preprocessing...\n",
      "Simulating doublets...\n",
      "Embedding transcriptomes using PCA...\n",
      "Calculating doublet scores...\n",
      "Automatically set threshold at doublet score = 0.47\n",
      "Detected doublet rate = 0.2%\n",
      "Estimated detectable doublet fraction = 11.1%\n",
      "Overall doublet rate:\n",
      "\tExpected   = 6.0%\n",
      "\tEstimated  = 2.0%\n",
      "Elapsed time: 3.8 seconds\n",
      "Running UMAP..\n",
      "Done.\n"
     ]
    },
    {
     "name": "stderr",
     "output_type": "stream",
     "text": [
      "/var/folders/c4/c8ryj8456sgbdnnblqqr93c1hjj33t/T/ipykernel_62933/3701244909.py:25: ImplicitModificationWarning: Trying to modify attribute `.obs` of view, initializing view as actual.\n",
      "  adata_i.obs['doublet_score']=scrub.doublet_scores_obs_\n"
     ]
    },
    {
     "name": "stdout",
     "output_type": "stream",
     "text": [
      "Preprocessing...\n",
      "Simulating doublets...\n",
      "Embedding transcriptomes using PCA...\n",
      "Calculating doublet scores...\n",
      "Automatically set threshold at doublet score = 0.67\n",
      "Detected doublet rate = 0.0%\n",
      "Estimated detectable doublet fraction = 0.2%\n",
      "Overall doublet rate:\n",
      "\tExpected   = 6.0%\n",
      "\tEstimated  = 8.9%\n",
      "Elapsed time: 17.2 seconds\n",
      "Running UMAP..\n",
      "Done.\n"
     ]
    },
    {
     "name": "stderr",
     "output_type": "stream",
     "text": [
      "/var/folders/c4/c8ryj8456sgbdnnblqqr93c1hjj33t/T/ipykernel_62933/3701244909.py:25: ImplicitModificationWarning: Trying to modify attribute `.obs` of view, initializing view as actual.\n",
      "  adata_i.obs['doublet_score']=scrub.doublet_scores_obs_\n"
     ]
    },
    {
     "name": "stdout",
     "output_type": "stream",
     "text": [
      "Preprocessing...\n",
      "Simulating doublets...\n",
      "Embedding transcriptomes using PCA...\n",
      "Calculating doublet scores...\n",
      "Automatically set threshold at doublet score = 0.40\n",
      "Detected doublet rate = 0.4%\n",
      "Estimated detectable doublet fraction = 10.5%\n",
      "Overall doublet rate:\n",
      "\tExpected   = 6.0%\n",
      "\tEstimated  = 3.4%\n",
      "Elapsed time: 0.9 seconds\n",
      "Running UMAP..\n",
      "Done.\n"
     ]
    },
    {
     "name": "stderr",
     "output_type": "stream",
     "text": [
      "/var/folders/c4/c8ryj8456sgbdnnblqqr93c1hjj33t/T/ipykernel_62933/3701244909.py:25: ImplicitModificationWarning: Trying to modify attribute `.obs` of view, initializing view as actual.\n",
      "  adata_i.obs['doublet_score']=scrub.doublet_scores_obs_\n"
     ]
    },
    {
     "name": "stdout",
     "output_type": "stream",
     "text": [
      "Preprocessing...\n",
      "Simulating doublets...\n",
      "Embedding transcriptomes using PCA...\n",
      "Calculating doublet scores...\n",
      "Automatically set threshold at doublet score = 0.61\n",
      "Detected doublet rate = 0.0%\n",
      "Estimated detectable doublet fraction = 0.0%\n",
      "Overall doublet rate:\n",
      "\tExpected   = 6.0%\n",
      "\tEstimated  = 0.0%\n",
      "Elapsed time: 19.9 seconds\n",
      "Running UMAP..\n",
      "Done.\n"
     ]
    },
    {
     "name": "stderr",
     "output_type": "stream",
     "text": [
      "/var/folders/c4/c8ryj8456sgbdnnblqqr93c1hjj33t/T/ipykernel_62933/3701244909.py:25: ImplicitModificationWarning: Trying to modify attribute `.obs` of view, initializing view as actual.\n",
      "  adata_i.obs['doublet_score']=scrub.doublet_scores_obs_\n"
     ]
    },
    {
     "name": "stdout",
     "output_type": "stream",
     "text": [
      "Preprocessing...\n",
      "Simulating doublets...\n",
      "Embedding transcriptomes using PCA...\n",
      "Calculating doublet scores...\n",
      "Automatically set threshold at doublet score = 0.35\n",
      "Detected doublet rate = 0.6%\n",
      "Estimated detectable doublet fraction = 13.2%\n",
      "Overall doublet rate:\n",
      "\tExpected   = 6.0%\n",
      "\tEstimated  = 4.9%\n",
      "Elapsed time: 5.5 seconds\n"
     ]
    },
    {
     "name": "stderr",
     "output_type": "stream",
     "text": [
      "/Users/yerrar/opt/miniconda3/envs/scanpy_env_A/lib/python3.9/site-packages/scrublet/scrublet.py:487: RuntimeWarning: More than 20 figures have been opened. Figures created through the pyplot interface (`matplotlib.pyplot.figure`) are retained until explicitly closed and may consume too much memory. (To control this warning, see the rcParam `figure.max_open_warning`). Consider using `matplotlib.pyplot.close()`.\n",
      "  fig, axs = plt.subplots(1, 2, figsize = fig_size)\n"
     ]
    },
    {
     "name": "stdout",
     "output_type": "stream",
     "text": [
      "Running UMAP..\n",
      "Done.\n"
     ]
    },
    {
     "name": "stderr",
     "output_type": "stream",
     "text": [
      "/var/folders/c4/c8ryj8456sgbdnnblqqr93c1hjj33t/T/ipykernel_62933/3701244909.py:25: ImplicitModificationWarning: Trying to modify attribute `.obs` of view, initializing view as actual.\n",
      "  adata_i.obs['doublet_score']=scrub.doublet_scores_obs_\n"
     ]
    },
    {
     "name": "stdout",
     "output_type": "stream",
     "text": [
      "Preprocessing...\n",
      "Simulating doublets...\n",
      "Embedding transcriptomes using PCA...\n",
      "Calculating doublet scores...\n",
      "Automatically set threshold at doublet score = 0.35\n",
      "Detected doublet rate = 0.6%\n",
      "Estimated detectable doublet fraction = 18.0%\n",
      "Overall doublet rate:\n",
      "\tExpected   = 6.0%\n",
      "\tEstimated  = 3.4%\n",
      "Elapsed time: 2.2 seconds\n",
      "Running UMAP..\n",
      "Done.\n"
     ]
    },
    {
     "name": "stderr",
     "output_type": "stream",
     "text": [
      "/var/folders/c4/c8ryj8456sgbdnnblqqr93c1hjj33t/T/ipykernel_62933/3701244909.py:25: ImplicitModificationWarning: Trying to modify attribute `.obs` of view, initializing view as actual.\n",
      "  adata_i.obs['doublet_score']=scrub.doublet_scores_obs_\n"
     ]
    },
    {
     "name": "stdout",
     "output_type": "stream",
     "text": [
      "Preprocessing...\n",
      "Simulating doublets...\n",
      "Embedding transcriptomes using PCA...\n",
      "Calculating doublet scores...\n",
      "Automatically set threshold at doublet score = 0.27\n",
      "Detected doublet rate = 1.4%\n",
      "Estimated detectable doublet fraction = 27.1%\n",
      "Overall doublet rate:\n",
      "\tExpected   = 6.0%\n",
      "\tEstimated  = 5.1%\n",
      "Elapsed time: 6.5 seconds\n",
      "Running UMAP..\n",
      "Done.\n"
     ]
    },
    {
     "name": "stderr",
     "output_type": "stream",
     "text": [
      "/var/folders/c4/c8ryj8456sgbdnnblqqr93c1hjj33t/T/ipykernel_62933/3701244909.py:25: ImplicitModificationWarning: Trying to modify attribute `.obs` of view, initializing view as actual.\n",
      "  adata_i.obs['doublet_score']=scrub.doublet_scores_obs_\n"
     ]
    },
    {
     "name": "stdout",
     "output_type": "stream",
     "text": [
      "Preprocessing...\n",
      "Simulating doublets...\n",
      "Embedding transcriptomes using PCA...\n",
      "Calculating doublet scores...\n",
      "Automatically set threshold at doublet score = 0.24\n",
      "Detected doublet rate = 3.5%\n",
      "Estimated detectable doublet fraction = 33.2%\n",
      "Overall doublet rate:\n",
      "\tExpected   = 6.0%\n",
      "\tEstimated  = 10.6%\n",
      "Elapsed time: 11.1 seconds\n",
      "Running UMAP..\n",
      "Done.\n"
     ]
    },
    {
     "name": "stderr",
     "output_type": "stream",
     "text": [
      "/var/folders/c4/c8ryj8456sgbdnnblqqr93c1hjj33t/T/ipykernel_62933/3701244909.py:25: ImplicitModificationWarning: Trying to modify attribute `.obs` of view, initializing view as actual.\n",
      "  adata_i.obs['doublet_score']=scrub.doublet_scores_obs_\n"
     ]
    },
    {
     "name": "stdout",
     "output_type": "stream",
     "text": [
      "Preprocessing...\n",
      "Simulating doublets...\n",
      "Embedding transcriptomes using PCA...\n",
      "Calculating doublet scores...\n",
      "Automatically set threshold at doublet score = 0.31\n",
      "Detected doublet rate = 1.7%\n",
      "Estimated detectable doublet fraction = 22.0%\n",
      "Overall doublet rate:\n",
      "\tExpected   = 6.0%\n",
      "\tEstimated  = 7.7%\n",
      "Elapsed time: 11.7 seconds\n",
      "Running UMAP..\n",
      "Done.\n"
     ]
    },
    {
     "name": "stderr",
     "output_type": "stream",
     "text": [
      "/var/folders/c4/c8ryj8456sgbdnnblqqr93c1hjj33t/T/ipykernel_62933/3701244909.py:25: ImplicitModificationWarning: Trying to modify attribute `.obs` of view, initializing view as actual.\n",
      "  adata_i.obs['doublet_score']=scrub.doublet_scores_obs_\n"
     ]
    },
    {
     "name": "stdout",
     "output_type": "stream",
     "text": [
      "Preprocessing...\n",
      "Simulating doublets...\n",
      "Embedding transcriptomes using PCA...\n",
      "Calculating doublet scores...\n",
      "Automatically set threshold at doublet score = 0.33\n",
      "Detected doublet rate = 1.6%\n",
      "Estimated detectable doublet fraction = 26.3%\n",
      "Overall doublet rate:\n",
      "\tExpected   = 6.0%\n",
      "\tEstimated  = 6.2%\n",
      "Elapsed time: 13.5 seconds\n",
      "Running UMAP..\n",
      "Done.\n"
     ]
    },
    {
     "name": "stderr",
     "output_type": "stream",
     "text": [
      "/var/folders/c4/c8ryj8456sgbdnnblqqr93c1hjj33t/T/ipykernel_62933/3701244909.py:25: ImplicitModificationWarning: Trying to modify attribute `.obs` of view, initializing view as actual.\n",
      "  adata_i.obs['doublet_score']=scrub.doublet_scores_obs_\n"
     ]
    },
    {
     "name": "stdout",
     "output_type": "stream",
     "text": [
      "Preprocessing...\n",
      "Simulating doublets...\n",
      "Embedding transcriptomes using PCA...\n",
      "Calculating doublet scores...\n",
      "Automatically set threshold at doublet score = 0.27\n",
      "Detected doublet rate = 2.2%\n",
      "Estimated detectable doublet fraction = 29.9%\n",
      "Overall doublet rate:\n",
      "\tExpected   = 6.0%\n",
      "\tEstimated  = 7.5%\n",
      "Elapsed time: 12.6 seconds\n",
      "Running UMAP..\n",
      "Done.\n"
     ]
    },
    {
     "name": "stderr",
     "output_type": "stream",
     "text": [
      "/var/folders/c4/c8ryj8456sgbdnnblqqr93c1hjj33t/T/ipykernel_62933/3701244909.py:25: ImplicitModificationWarning: Trying to modify attribute `.obs` of view, initializing view as actual.\n",
      "  adata_i.obs['doublet_score']=scrub.doublet_scores_obs_\n"
     ]
    },
    {
     "name": "stdout",
     "output_type": "stream",
     "text": [
      "Preprocessing...\n",
      "Simulating doublets...\n",
      "Embedding transcriptomes using PCA...\n",
      "Calculating doublet scores...\n",
      "Automatically set threshold at doublet score = 0.28\n",
      "Detected doublet rate = 1.5%\n",
      "Estimated detectable doublet fraction = 31.6%\n",
      "Overall doublet rate:\n",
      "\tExpected   = 6.0%\n",
      "\tEstimated  = 4.7%\n",
      "Elapsed time: 5.2 seconds\n",
      "Running UMAP..\n",
      "Done.\n"
     ]
    },
    {
     "name": "stderr",
     "output_type": "stream",
     "text": [
      "/var/folders/c4/c8ryj8456sgbdnnblqqr93c1hjj33t/T/ipykernel_62933/3701244909.py:25: ImplicitModificationWarning: Trying to modify attribute `.obs` of view, initializing view as actual.\n",
      "  adata_i.obs['doublet_score']=scrub.doublet_scores_obs_\n"
     ]
    },
    {
     "name": "stdout",
     "output_type": "stream",
     "text": [
      "Preprocessing...\n",
      "Simulating doublets...\n",
      "Embedding transcriptomes using PCA...\n",
      "Calculating doublet scores...\n",
      "Automatically set threshold at doublet score = 0.52\n",
      "Detected doublet rate = 0.3%\n",
      "Estimated detectable doublet fraction = 5.8%\n",
      "Overall doublet rate:\n",
      "\tExpected   = 6.0%\n",
      "\tEstimated  = 5.0%\n",
      "Elapsed time: 2.7 seconds\n",
      "Running UMAP..\n",
      "Done.\n"
     ]
    },
    {
     "name": "stderr",
     "output_type": "stream",
     "text": [
      "/var/folders/c4/c8ryj8456sgbdnnblqqr93c1hjj33t/T/ipykernel_62933/3701244909.py:25: ImplicitModificationWarning: Trying to modify attribute `.obs` of view, initializing view as actual.\n",
      "  adata_i.obs['doublet_score']=scrub.doublet_scores_obs_\n"
     ]
    },
    {
     "name": "stdout",
     "output_type": "stream",
     "text": [
      "Preprocessing...\n",
      "Simulating doublets...\n",
      "Embedding transcriptomes using PCA...\n",
      "Calculating doublet scores...\n",
      "Automatically set threshold at doublet score = 0.30\n",
      "Detected doublet rate = 1.9%\n",
      "Estimated detectable doublet fraction = 35.1%\n",
      "Overall doublet rate:\n",
      "\tExpected   = 6.0%\n",
      "\tEstimated  = 5.3%\n",
      "Elapsed time: 4.5 seconds\n",
      "Running UMAP..\n",
      "Done.\n"
     ]
    },
    {
     "name": "stderr",
     "output_type": "stream",
     "text": [
      "/var/folders/c4/c8ryj8456sgbdnnblqqr93c1hjj33t/T/ipykernel_62933/3701244909.py:25: ImplicitModificationWarning: Trying to modify attribute `.obs` of view, initializing view as actual.\n",
      "  adata_i.obs['doublet_score']=scrub.doublet_scores_obs_\n"
     ]
    },
    {
     "name": "stdout",
     "output_type": "stream",
     "text": [
      "Preprocessing...\n",
      "Simulating doublets...\n",
      "Embedding transcriptomes using PCA...\n",
      "Calculating doublet scores...\n",
      "Automatically set threshold at doublet score = 0.31\n",
      "Detected doublet rate = 1.3%\n",
      "Estimated detectable doublet fraction = 28.2%\n",
      "Overall doublet rate:\n",
      "\tExpected   = 6.0%\n",
      "\tEstimated  = 4.6%\n",
      "Elapsed time: 7.2 seconds\n",
      "Running UMAP..\n",
      "Done.\n"
     ]
    },
    {
     "name": "stderr",
     "output_type": "stream",
     "text": [
      "/var/folders/c4/c8ryj8456sgbdnnblqqr93c1hjj33t/T/ipykernel_62933/3701244909.py:25: ImplicitModificationWarning: Trying to modify attribute `.obs` of view, initializing view as actual.\n",
      "  adata_i.obs['doublet_score']=scrub.doublet_scores_obs_\n"
     ]
    },
    {
     "name": "stdout",
     "output_type": "stream",
     "text": [
      "Preprocessing...\n",
      "Simulating doublets...\n",
      "Embedding transcriptomes using PCA...\n",
      "Calculating doublet scores...\n",
      "Automatically set threshold at doublet score = 0.37\n",
      "Detected doublet rate = 0.6%\n",
      "Estimated detectable doublet fraction = 22.9%\n",
      "Overall doublet rate:\n",
      "\tExpected   = 6.0%\n",
      "\tEstimated  = 2.4%\n",
      "Elapsed time: 4.7 seconds\n",
      "Running UMAP..\n",
      "Done.\n"
     ]
    },
    {
     "name": "stderr",
     "output_type": "stream",
     "text": [
      "/var/folders/c4/c8ryj8456sgbdnnblqqr93c1hjj33t/T/ipykernel_62933/3701244909.py:25: ImplicitModificationWarning: Trying to modify attribute `.obs` of view, initializing view as actual.\n",
      "  adata_i.obs['doublet_score']=scrub.doublet_scores_obs_\n"
     ]
    },
    {
     "name": "stdout",
     "output_type": "stream",
     "text": [
      "Preprocessing...\n",
      "Simulating doublets...\n",
      "Embedding transcriptomes using PCA...\n",
      "Calculating doublet scores...\n",
      "Automatically set threshold at doublet score = 0.48\n",
      "Detected doublet rate = 0.3%\n",
      "Estimated detectable doublet fraction = 11.3%\n",
      "Overall doublet rate:\n",
      "\tExpected   = 6.0%\n",
      "\tEstimated  = 2.9%\n",
      "Elapsed time: 2.4 seconds\n",
      "Running UMAP..\n",
      "Done.\n"
     ]
    },
    {
     "name": "stderr",
     "output_type": "stream",
     "text": [
      "/var/folders/c4/c8ryj8456sgbdnnblqqr93c1hjj33t/T/ipykernel_62933/3701244909.py:25: ImplicitModificationWarning: Trying to modify attribute `.obs` of view, initializing view as actual.\n",
      "  adata_i.obs['doublet_score']=scrub.doublet_scores_obs_\n"
     ]
    },
    {
     "name": "stdout",
     "output_type": "stream",
     "text": [
      "Preprocessing...\n",
      "Simulating doublets...\n",
      "Embedding transcriptomes using PCA...\n",
      "Calculating doublet scores...\n",
      "Automatically set threshold at doublet score = 0.25\n",
      "Detected doublet rate = 0.0%\n",
      "Estimated detectable doublet fraction = 0.0%\n",
      "Overall doublet rate:\n",
      "\tExpected   = 6.0%\n",
      "\tEstimated  = 50.0%\n",
      "Elapsed time: 14.5 seconds\n",
      "Running UMAP..\n",
      "Done.\n"
     ]
    },
    {
     "name": "stderr",
     "output_type": "stream",
     "text": [
      "/var/folders/c4/c8ryj8456sgbdnnblqqr93c1hjj33t/T/ipykernel_62933/3701244909.py:25: ImplicitModificationWarning: Trying to modify attribute `.obs` of view, initializing view as actual.\n",
      "  adata_i.obs['doublet_score']=scrub.doublet_scores_obs_\n"
     ]
    },
    {
     "name": "stdout",
     "output_type": "stream",
     "text": [
      "Preprocessing...\n",
      "Simulating doublets...\n",
      "Embedding transcriptomes using PCA...\n",
      "Calculating doublet scores...\n",
      "Automatically set threshold at doublet score = 0.28\n",
      "Detected doublet rate = 1.8%\n",
      "Estimated detectable doublet fraction = 27.0%\n",
      "Overall doublet rate:\n",
      "\tExpected   = 6.0%\n",
      "\tEstimated  = 6.7%\n",
      "Elapsed time: 10.5 seconds\n",
      "Running UMAP..\n",
      "Done.\n"
     ]
    },
    {
     "name": "stderr",
     "output_type": "stream",
     "text": [
      "/var/folders/c4/c8ryj8456sgbdnnblqqr93c1hjj33t/T/ipykernel_62933/3701244909.py:25: ImplicitModificationWarning: Trying to modify attribute `.obs` of view, initializing view as actual.\n",
      "  adata_i.obs['doublet_score']=scrub.doublet_scores_obs_\n"
     ]
    },
    {
     "name": "stdout",
     "output_type": "stream",
     "text": [
      "Preprocessing...\n",
      "Simulating doublets...\n",
      "Embedding transcriptomes using PCA...\n",
      "Calculating doublet scores...\n",
      "Automatically set threshold at doublet score = 0.29\n",
      "Detected doublet rate = 1.3%\n",
      "Estimated detectable doublet fraction = 34.1%\n",
      "Overall doublet rate:\n",
      "\tExpected   = 6.0%\n",
      "\tEstimated  = 3.9%\n",
      "Elapsed time: 3.8 seconds\n",
      "Running UMAP..\n",
      "Done.\n"
     ]
    },
    {
     "name": "stderr",
     "output_type": "stream",
     "text": [
      "/var/folders/c4/c8ryj8456sgbdnnblqqr93c1hjj33t/T/ipykernel_62933/3701244909.py:25: ImplicitModificationWarning: Trying to modify attribute `.obs` of view, initializing view as actual.\n",
      "  adata_i.obs['doublet_score']=scrub.doublet_scores_obs_\n"
     ]
    },
    {
     "name": "stdout",
     "output_type": "stream",
     "text": [
      "Preprocessing...\n",
      "Simulating doublets...\n",
      "Embedding transcriptomes using PCA...\n",
      "Calculating doublet scores...\n",
      "Automatically set threshold at doublet score = 0.34\n",
      "Detected doublet rate = 1.1%\n",
      "Estimated detectable doublet fraction = 12.4%\n",
      "Overall doublet rate:\n",
      "\tExpected   = 6.0%\n",
      "\tEstimated  = 9.0%\n",
      "Elapsed time: 10.1 seconds\n",
      "Running UMAP..\n",
      "Done.\n"
     ]
    },
    {
     "name": "stderr",
     "output_type": "stream",
     "text": [
      "/var/folders/c4/c8ryj8456sgbdnnblqqr93c1hjj33t/T/ipykernel_62933/3701244909.py:25: ImplicitModificationWarning: Trying to modify attribute `.obs` of view, initializing view as actual.\n",
      "  adata_i.obs['doublet_score']=scrub.doublet_scores_obs_\n"
     ]
    },
    {
     "name": "stdout",
     "output_type": "stream",
     "text": [
      "Preprocessing...\n",
      "Simulating doublets...\n",
      "Embedding transcriptomes using PCA...\n",
      "Calculating doublet scores...\n",
      "Automatically set threshold at doublet score = 0.24\n",
      "Detected doublet rate = 3.4%\n",
      "Estimated detectable doublet fraction = 35.2%\n",
      "Overall doublet rate:\n",
      "\tExpected   = 6.0%\n",
      "\tEstimated  = 9.6%\n",
      "Elapsed time: 15.5 seconds\n",
      "Running UMAP..\n",
      "Done.\n"
     ]
    },
    {
     "name": "stderr",
     "output_type": "stream",
     "text": [
      "/var/folders/c4/c8ryj8456sgbdnnblqqr93c1hjj33t/T/ipykernel_62933/3701244909.py:25: ImplicitModificationWarning: Trying to modify attribute `.obs` of view, initializing view as actual.\n",
      "  adata_i.obs['doublet_score']=scrub.doublet_scores_obs_\n"
     ]
    },
    {
     "name": "stdout",
     "output_type": "stream",
     "text": [
      "Preprocessing...\n",
      "Simulating doublets...\n",
      "Embedding transcriptomes using PCA...\n",
      "Calculating doublet scores...\n",
      "Automatically set threshold at doublet score = 0.22\n",
      "Detected doublet rate = 3.3%\n",
      "Estimated detectable doublet fraction = 30.8%\n",
      "Overall doublet rate:\n",
      "\tExpected   = 6.0%\n",
      "\tEstimated  = 10.6%\n",
      "Elapsed time: 14.5 seconds\n",
      "Running UMAP..\n",
      "Done.\n"
     ]
    },
    {
     "name": "stderr",
     "output_type": "stream",
     "text": [
      "/var/folders/c4/c8ryj8456sgbdnnblqqr93c1hjj33t/T/ipykernel_62933/3701244909.py:25: ImplicitModificationWarning: Trying to modify attribute `.obs` of view, initializing view as actual.\n",
      "  adata_i.obs['doublet_score']=scrub.doublet_scores_obs_\n"
     ]
    },
    {
     "name": "stdout",
     "output_type": "stream",
     "text": [
      "Preprocessing...\n",
      "Simulating doublets...\n",
      "Embedding transcriptomes using PCA...\n",
      "Calculating doublet scores...\n",
      "Automatically set threshold at doublet score = 0.54\n",
      "Detected doublet rate = 0.2%\n",
      "Estimated detectable doublet fraction = 5.9%\n",
      "Overall doublet rate:\n",
      "\tExpected   = 6.0%\n",
      "\tEstimated  = 3.5%\n",
      "Elapsed time: 5.0 seconds\n",
      "Running UMAP..\n",
      "Done.\n"
     ]
    },
    {
     "name": "stderr",
     "output_type": "stream",
     "text": [
      "/var/folders/c4/c8ryj8456sgbdnnblqqr93c1hjj33t/T/ipykernel_62933/3701244909.py:25: ImplicitModificationWarning: Trying to modify attribute `.obs` of view, initializing view as actual.\n",
      "  adata_i.obs['doublet_score']=scrub.doublet_scores_obs_\n"
     ]
    },
    {
     "name": "stdout",
     "output_type": "stream",
     "text": [
      "Preprocessing...\n",
      "Simulating doublets...\n",
      "Embedding transcriptomes using PCA...\n",
      "Calculating doublet scores...\n",
      "Automatically set threshold at doublet score = 0.68\n",
      "Detected doublet rate = 0.0%\n",
      "Estimated detectable doublet fraction = 0.1%\n",
      "Overall doublet rate:\n",
      "\tExpected   = 6.0%\n",
      "\tEstimated  = 8.0%\n",
      "Elapsed time: 16.9 seconds\n",
      "Running UMAP..\n",
      "Done.\n"
     ]
    },
    {
     "name": "stderr",
     "output_type": "stream",
     "text": [
      "/var/folders/c4/c8ryj8456sgbdnnblqqr93c1hjj33t/T/ipykernel_62933/3701244909.py:25: ImplicitModificationWarning: Trying to modify attribute `.obs` of view, initializing view as actual.\n",
      "  adata_i.obs['doublet_score']=scrub.doublet_scores_obs_\n"
     ]
    },
    {
     "name": "stdout",
     "output_type": "stream",
     "text": [
      "Preprocessing...\n",
      "Simulating doublets...\n",
      "Embedding transcriptomes using PCA...\n",
      "Calculating doublet scores...\n",
      "Automatically set threshold at doublet score = 0.30\n",
      "Detected doublet rate = 1.5%\n",
      "Estimated detectable doublet fraction = 28.2%\n",
      "Overall doublet rate:\n",
      "\tExpected   = 6.0%\n",
      "\tEstimated  = 5.4%\n",
      "Elapsed time: 12.7 seconds\n",
      "Running UMAP..\n",
      "Done.\n"
     ]
    },
    {
     "name": "stderr",
     "output_type": "stream",
     "text": [
      "/var/folders/c4/c8ryj8456sgbdnnblqqr93c1hjj33t/T/ipykernel_62933/3701244909.py:25: ImplicitModificationWarning: Trying to modify attribute `.obs` of view, initializing view as actual.\n",
      "  adata_i.obs['doublet_score']=scrub.doublet_scores_obs_\n"
     ]
    },
    {
     "name": "stdout",
     "output_type": "stream",
     "text": [
      "Preprocessing...\n",
      "Simulating doublets...\n",
      "Embedding transcriptomes using PCA...\n",
      "Calculating doublet scores...\n",
      "Automatically set threshold at doublet score = 0.26\n",
      "Detected doublet rate = 3.0%\n",
      "Estimated detectable doublet fraction = 36.2%\n",
      "Overall doublet rate:\n",
      "\tExpected   = 6.0%\n",
      "\tEstimated  = 8.2%\n",
      "Elapsed time: 14.8 seconds\n",
      "Running UMAP..\n",
      "Done.\n"
     ]
    },
    {
     "name": "stderr",
     "output_type": "stream",
     "text": [
      "/var/folders/c4/c8ryj8456sgbdnnblqqr93c1hjj33t/T/ipykernel_62933/3701244909.py:25: ImplicitModificationWarning: Trying to modify attribute `.obs` of view, initializing view as actual.\n",
      "  adata_i.obs['doublet_score']=scrub.doublet_scores_obs_\n"
     ]
    },
    {
     "name": "stdout",
     "output_type": "stream",
     "text": [
      "Preprocessing...\n",
      "Simulating doublets...\n",
      "Embedding transcriptomes using PCA...\n",
      "Calculating doublet scores...\n",
      "Automatically set threshold at doublet score = 0.32\n",
      "Detected doublet rate = 1.4%\n",
      "Estimated detectable doublet fraction = 28.9%\n",
      "Overall doublet rate:\n",
      "\tExpected   = 6.0%\n",
      "\tEstimated  = 5.0%\n",
      "Elapsed time: 7.7 seconds\n",
      "Running UMAP..\n",
      "Done.\n"
     ]
    },
    {
     "name": "stderr",
     "output_type": "stream",
     "text": [
      "/var/folders/c4/c8ryj8456sgbdnnblqqr93c1hjj33t/T/ipykernel_62933/3701244909.py:25: ImplicitModificationWarning: Trying to modify attribute `.obs` of view, initializing view as actual.\n",
      "  adata_i.obs['doublet_score']=scrub.doublet_scores_obs_\n"
     ]
    }
   ],
   "source": [
    "for sample in names:\n",
    "    \n",
    "    cells_of_interest = adata_BS.obs.loc[adata_BS.obs[\"Fragment_Names\"] == sample, :].index\n",
    "    \n",
    "    adata_i = adata_BS[cells_of_interest, :]\n",
    "    \n",
    "    scrub = scr.Scrublet(adata_i.X, expected_doublet_rate=0.06) #**\n",
    "    \n",
    "    doublet_scores, predicted_doublets = scrub.scrub_doublets(min_counts=2, \n",
    "                                                          min_cells=3, \n",
    "                                                          min_gene_variability_pctl=85, \n",
    "                                                          n_prin_comps=30)\n",
    "    scrub.plot_histogram();\n",
    "    \n",
    "    print('Running UMAP..')\n",
    "        \n",
    "    scrub.set_embedding('UMAP', scr.get_umap(scrub.manifold_obs_, 10, min_dist=0.3))\n",
    "        \n",
    "    print('Done.')\n",
    "        \n",
    "    #scrub.plot_embedding('UMAP', order_points=True);\n",
    "    \n",
    "    #doublet_score= pd.DataFrame({'doublet_scores' :list(doublet_scores),'predicted_doublets': list(predicted_doublets)})\n",
    "        \n",
    "    adata_i.obs['doublet_score']=scrub.doublet_scores_obs_\n",
    "    adata_i.uns['sim_doublet_score']=scrub.doublet_scores_sim_\n",
    "        \n",
    "    adata_i.obs[['doublet_score']].to_csv('./Files/'+ sample + \"_Scrub.csv\")\n",
    "    \n",
    "    continue\n",
    "    "
   ]
  },
  {
   "cell_type": "markdown",
   "id": "9de2cde7",
   "metadata": {},
   "source": [
    "# Aggregate scrublet output .csv files"
   ]
  },
  {
   "cell_type": "code",
   "execution_count": 22,
   "id": "c5e0cbd5",
   "metadata": {},
   "outputs": [],
   "source": [
    "import re"
   ]
  },
  {
   "cell_type": "code",
   "execution_count": 23,
   "id": "7ff6b349",
   "metadata": {},
   "outputs": [],
   "source": [
    "import glob\n",
    "\n",
    "path = './Files/' # use your path\n",
    "all_files = glob.glob(path + \"/*.csv\")\n",
    "\n",
    "li = []\n",
    "\n",
    "for filename in all_files:\n",
    "    df = pd.read_csv(filename, index_col=None, header=0)\n",
    "    li.append(df)\n",
    "\n",
    "frame = pd.concat(li, axis=0, ignore_index=True)\n"
   ]
  },
  {
   "cell_type": "code",
   "execution_count": 24,
   "id": "c7df1d46",
   "metadata": {},
   "outputs": [],
   "source": [
    "frame['index']=frame['Unnamed: 0']"
   ]
  },
  {
   "cell_type": "code",
   "execution_count": 25,
   "id": "f8e2ae9f",
   "metadata": {},
   "outputs": [
    {
     "data": {
      "text/html": [
       "<div>\n",
       "<style scoped>\n",
       "    .dataframe tbody tr th:only-of-type {\n",
       "        vertical-align: middle;\n",
       "    }\n",
       "\n",
       "    .dataframe tbody tr th {\n",
       "        vertical-align: top;\n",
       "    }\n",
       "\n",
       "    .dataframe thead th {\n",
       "        text-align: right;\n",
       "    }\n",
       "</style>\n",
       "<table border=\"1\" class=\"dataframe\">\n",
       "  <thead>\n",
       "    <tr style=\"text-align: right;\">\n",
       "      <th></th>\n",
       "      <th>Unnamed: 0</th>\n",
       "      <th>doublet_score</th>\n",
       "      <th>index</th>\n",
       "    </tr>\n",
       "  </thead>\n",
       "  <tbody>\n",
       "    <tr>\n",
       "      <th>264946</th>\n",
       "      <td>TTTGGTTCAAGGGTCA-28</td>\n",
       "      <td>0.020660</td>\n",
       "      <td>TTTGGTTCAAGGGTCA-28</td>\n",
       "    </tr>\n",
       "    <tr>\n",
       "      <th>264947</th>\n",
       "      <td>TTTGGTTGTCTTGCTC-28</td>\n",
       "      <td>0.172647</td>\n",
       "      <td>TTTGGTTGTCTTGCTC-28</td>\n",
       "    </tr>\n",
       "    <tr>\n",
       "      <th>264948</th>\n",
       "      <td>TTTGGTTGTTCATCGA-28</td>\n",
       "      <td>0.006654</td>\n",
       "      <td>TTTGGTTGTTCATCGA-28</td>\n",
       "    </tr>\n",
       "    <tr>\n",
       "      <th>264949</th>\n",
       "      <td>TTTGTTGAGATCACTC-28</td>\n",
       "      <td>0.034821</td>\n",
       "      <td>TTTGTTGAGATCACTC-28</td>\n",
       "    </tr>\n",
       "    <tr>\n",
       "      <th>264950</th>\n",
       "      <td>TTTGTTGGTGCCCGTA-28</td>\n",
       "      <td>0.094261</td>\n",
       "      <td>TTTGTTGGTGCCCGTA-28</td>\n",
       "    </tr>\n",
       "  </tbody>\n",
       "</table>\n",
       "</div>"
      ],
      "text/plain": [
       "                 Unnamed: 0  doublet_score                index\n",
       "264946  TTTGGTTCAAGGGTCA-28       0.020660  TTTGGTTCAAGGGTCA-28\n",
       "264947  TTTGGTTGTCTTGCTC-28       0.172647  TTTGGTTGTCTTGCTC-28\n",
       "264948  TTTGGTTGTTCATCGA-28       0.006654  TTTGGTTGTTCATCGA-28\n",
       "264949  TTTGTTGAGATCACTC-28       0.034821  TTTGTTGAGATCACTC-28\n",
       "264950  TTTGTTGGTGCCCGTA-28       0.094261  TTTGTTGGTGCCCGTA-28"
      ]
     },
     "execution_count": 25,
     "metadata": {},
     "output_type": "execute_result"
    }
   ],
   "source": [
    "frame.tail()"
   ]
  },
  {
   "cell_type": "code",
   "execution_count": 26,
   "id": "91c8d6dc",
   "metadata": {},
   "outputs": [],
   "source": [
    "frame.to_csv(\"./Files/comb_csv_Lifestyle.csv\", index=False) "
   ]
  },
  {
   "cell_type": "code",
   "execution_count": 27,
   "id": "c09ceb00",
   "metadata": {},
   "outputs": [],
   "source": [
    "Scru = pd.read_csv(\"./Files/comb_csv_Lifestyle.csv\",header=0)"
   ]
  },
  {
   "cell_type": "code",
   "execution_count": 28,
   "id": "c1e96afe",
   "metadata": {},
   "outputs": [
    {
     "data": {
      "text/html": [
       "<div>\n",
       "<style scoped>\n",
       "    .dataframe tbody tr th:only-of-type {\n",
       "        vertical-align: middle;\n",
       "    }\n",
       "\n",
       "    .dataframe tbody tr th {\n",
       "        vertical-align: top;\n",
       "    }\n",
       "\n",
       "    .dataframe thead th {\n",
       "        text-align: right;\n",
       "    }\n",
       "</style>\n",
       "<table border=\"1\" class=\"dataframe\">\n",
       "  <thead>\n",
       "    <tr style=\"text-align: right;\">\n",
       "      <th></th>\n",
       "      <th>Unnamed: 0</th>\n",
       "      <th>doublet_score</th>\n",
       "      <th>index</th>\n",
       "    </tr>\n",
       "  </thead>\n",
       "  <tbody>\n",
       "    <tr>\n",
       "      <th>264946</th>\n",
       "      <td>TTTGGTTCAAGGGTCA-28</td>\n",
       "      <td>0.020660</td>\n",
       "      <td>TTTGGTTCAAGGGTCA-28</td>\n",
       "    </tr>\n",
       "    <tr>\n",
       "      <th>264947</th>\n",
       "      <td>TTTGGTTGTCTTGCTC-28</td>\n",
       "      <td>0.172647</td>\n",
       "      <td>TTTGGTTGTCTTGCTC-28</td>\n",
       "    </tr>\n",
       "    <tr>\n",
       "      <th>264948</th>\n",
       "      <td>TTTGGTTGTTCATCGA-28</td>\n",
       "      <td>0.006654</td>\n",
       "      <td>TTTGGTTGTTCATCGA-28</td>\n",
       "    </tr>\n",
       "    <tr>\n",
       "      <th>264949</th>\n",
       "      <td>TTTGTTGAGATCACTC-28</td>\n",
       "      <td>0.034821</td>\n",
       "      <td>TTTGTTGAGATCACTC-28</td>\n",
       "    </tr>\n",
       "    <tr>\n",
       "      <th>264950</th>\n",
       "      <td>TTTGTTGGTGCCCGTA-28</td>\n",
       "      <td>0.094261</td>\n",
       "      <td>TTTGTTGGTGCCCGTA-28</td>\n",
       "    </tr>\n",
       "  </tbody>\n",
       "</table>\n",
       "</div>"
      ],
      "text/plain": [
       "                 Unnamed: 0  doublet_score                index\n",
       "264946  TTTGGTTCAAGGGTCA-28       0.020660  TTTGGTTCAAGGGTCA-28\n",
       "264947  TTTGGTTGTCTTGCTC-28       0.172647  TTTGGTTGTCTTGCTC-28\n",
       "264948  TTTGGTTGTTCATCGA-28       0.006654  TTTGGTTGTTCATCGA-28\n",
       "264949  TTTGTTGAGATCACTC-28       0.034821  TTTGTTGAGATCACTC-28\n",
       "264950  TTTGTTGGTGCCCGTA-28       0.094261  TTTGTTGGTGCCCGTA-28"
      ]
     },
     "execution_count": 28,
     "metadata": {},
     "output_type": "execute_result"
    }
   ],
   "source": [
    "Scru.tail(5)"
   ]
  },
  {
   "cell_type": "code",
   "execution_count": 29,
   "id": "c4911f31",
   "metadata": {},
   "outputs": [
    {
     "data": {
      "text/html": [
       "<div>\n",
       "<style scoped>\n",
       "    .dataframe tbody tr th:only-of-type {\n",
       "        vertical-align: middle;\n",
       "    }\n",
       "\n",
       "    .dataframe tbody tr th {\n",
       "        vertical-align: top;\n",
       "    }\n",
       "\n",
       "    .dataframe thead th {\n",
       "        text-align: right;\n",
       "    }\n",
       "</style>\n",
       "<table border=\"1\" class=\"dataframe\">\n",
       "  <thead>\n",
       "    <tr style=\"text-align: right;\">\n",
       "      <th></th>\n",
       "      <th>Unnamed: 0</th>\n",
       "      <th>doublet_score</th>\n",
       "    </tr>\n",
       "    <tr>\n",
       "      <th>index</th>\n",
       "      <th></th>\n",
       "      <th></th>\n",
       "    </tr>\n",
       "  </thead>\n",
       "  <tbody>\n",
       "    <tr>\n",
       "      <th>AAACCCAAGACATATG-18</th>\n",
       "      <td>AAACCCAAGACATATG-18</td>\n",
       "      <td>0.078641</td>\n",
       "    </tr>\n",
       "    <tr>\n",
       "      <th>AAACCCAAGAGCAGAA-18</th>\n",
       "      <td>AAACCCAAGAGCAGAA-18</td>\n",
       "      <td>0.036721</td>\n",
       "    </tr>\n",
       "    <tr>\n",
       "      <th>AAACCCAAGCACTGGA-18</th>\n",
       "      <td>AAACCCAAGCACTGGA-18</td>\n",
       "      <td>0.043669</td>\n",
       "    </tr>\n",
       "    <tr>\n",
       "      <th>AAACCCAAGCGTTCAT-18</th>\n",
       "      <td>AAACCCAAGCGTTCAT-18</td>\n",
       "      <td>0.017220</td>\n",
       "    </tr>\n",
       "    <tr>\n",
       "      <th>AAACCCACAAGAGCTG-18</th>\n",
       "      <td>AAACCCACAAGAGCTG-18</td>\n",
       "      <td>0.015415</td>\n",
       "    </tr>\n",
       "  </tbody>\n",
       "</table>\n",
       "</div>"
      ],
      "text/plain": [
       "                              Unnamed: 0  doublet_score\n",
       "index                                                  \n",
       "AAACCCAAGACATATG-18  AAACCCAAGACATATG-18       0.078641\n",
       "AAACCCAAGAGCAGAA-18  AAACCCAAGAGCAGAA-18       0.036721\n",
       "AAACCCAAGCACTGGA-18  AAACCCAAGCACTGGA-18       0.043669\n",
       "AAACCCAAGCGTTCAT-18  AAACCCAAGCGTTCAT-18       0.017220\n",
       "AAACCCACAAGAGCTG-18  AAACCCACAAGAGCTG-18       0.015415"
      ]
     },
     "execution_count": 29,
     "metadata": {},
     "output_type": "execute_result"
    }
   ],
   "source": [
    "Scru = Scru.set_index('index')\n",
    "Scru.head(5)"
   ]
  },
  {
   "cell_type": "code",
   "execution_count": 30,
   "id": "b7a06b5f",
   "metadata": {},
   "outputs": [
    {
     "data": {
      "text/html": [
       "<div>\n",
       "<style scoped>\n",
       "    .dataframe tbody tr th:only-of-type {\n",
       "        vertical-align: middle;\n",
       "    }\n",
       "\n",
       "    .dataframe tbody tr th {\n",
       "        vertical-align: top;\n",
       "    }\n",
       "\n",
       "    .dataframe thead th {\n",
       "        text-align: right;\n",
       "    }\n",
       "</style>\n",
       "<table border=\"1\" class=\"dataframe\">\n",
       "  <thead>\n",
       "    <tr style=\"text-align: right;\">\n",
       "      <th></th>\n",
       "      <th>Unnamed: 0</th>\n",
       "      <th>doublet_score</th>\n",
       "    </tr>\n",
       "  </thead>\n",
       "  <tbody>\n",
       "    <tr>\n",
       "      <th>AAACCTGAGAAGCCCA-1</th>\n",
       "      <td>AAACCTGAGAAGCCCA-1</td>\n",
       "      <td>0.076245</td>\n",
       "    </tr>\n",
       "    <tr>\n",
       "      <th>AAACCTGCACTGTCGG-1</th>\n",
       "      <td>AAACCTGCACTGTCGG-1</td>\n",
       "      <td>0.035897</td>\n",
       "    </tr>\n",
       "    <tr>\n",
       "      <th>AAACCTGCAGCGTCCA-1</th>\n",
       "      <td>AAACCTGCAGCGTCCA-1</td>\n",
       "      <td>0.182609</td>\n",
       "    </tr>\n",
       "    <tr>\n",
       "      <th>AAACCTGGTAAATGAC-1</th>\n",
       "      <td>AAACCTGGTAAATGAC-1</td>\n",
       "      <td>0.096154</td>\n",
       "    </tr>\n",
       "    <tr>\n",
       "      <th>AAACCTGGTCACTTCC-1</th>\n",
       "      <td>AAACCTGGTCACTTCC-1</td>\n",
       "      <td>0.044993</td>\n",
       "    </tr>\n",
       "    <tr>\n",
       "      <th>...</th>\n",
       "      <td>...</td>\n",
       "      <td>...</td>\n",
       "    </tr>\n",
       "    <tr>\n",
       "      <th>TTTGTTGGTCCCTCAT-44</th>\n",
       "      <td>TTTGTTGGTCCCTCAT-44</td>\n",
       "      <td>0.068780</td>\n",
       "    </tr>\n",
       "    <tr>\n",
       "      <th>TTTGTTGGTGAGATCG-44</th>\n",
       "      <td>TTTGTTGGTGAGATCG-44</td>\n",
       "      <td>0.010053</td>\n",
       "    </tr>\n",
       "    <tr>\n",
       "      <th>TTTGTTGTCCACACCT-44</th>\n",
       "      <td>TTTGTTGTCCACACCT-44</td>\n",
       "      <td>0.066225</td>\n",
       "    </tr>\n",
       "    <tr>\n",
       "      <th>TTTGTTGTCCTGTAGA-44</th>\n",
       "      <td>TTTGTTGTCCTGTAGA-44</td>\n",
       "      <td>0.017792</td>\n",
       "    </tr>\n",
       "    <tr>\n",
       "      <th>TTTGTTGTCTCGACGG-44</th>\n",
       "      <td>TTTGTTGTCTCGACGG-44</td>\n",
       "      <td>0.057172</td>\n",
       "    </tr>\n",
       "  </tbody>\n",
       "</table>\n",
       "<p>264951 rows × 2 columns</p>\n",
       "</div>"
      ],
      "text/plain": [
       "                              Unnamed: 0  doublet_score\n",
       "AAACCTGAGAAGCCCA-1    AAACCTGAGAAGCCCA-1       0.076245\n",
       "AAACCTGCACTGTCGG-1    AAACCTGCACTGTCGG-1       0.035897\n",
       "AAACCTGCAGCGTCCA-1    AAACCTGCAGCGTCCA-1       0.182609\n",
       "AAACCTGGTAAATGAC-1    AAACCTGGTAAATGAC-1       0.096154\n",
       "AAACCTGGTCACTTCC-1    AAACCTGGTCACTTCC-1       0.044993\n",
       "...                                  ...            ...\n",
       "TTTGTTGGTCCCTCAT-44  TTTGTTGGTCCCTCAT-44       0.068780\n",
       "TTTGTTGGTGAGATCG-44  TTTGTTGGTGAGATCG-44       0.010053\n",
       "TTTGTTGTCCACACCT-44  TTTGTTGTCCACACCT-44       0.066225\n",
       "TTTGTTGTCCTGTAGA-44  TTTGTTGTCCTGTAGA-44       0.017792\n",
       "TTTGTTGTCTCGACGG-44  TTTGTTGTCTCGACGG-44       0.057172\n",
       "\n",
       "[264951 rows x 2 columns]"
      ]
     },
     "execution_count": 30,
     "metadata": {},
     "output_type": "execute_result"
    }
   ],
   "source": [
    "Scru=Scru.reindex(adata_BS.obs.index)\n",
    "Scru"
   ]
  },
  {
   "cell_type": "code",
   "execution_count": 31,
   "id": "31ad66a9",
   "metadata": {},
   "outputs": [
    {
     "data": {
      "text/plain": [
       "(264951, 2)"
      ]
     },
     "execution_count": 31,
     "metadata": {},
     "output_type": "execute_result"
    }
   ],
   "source": [
    "Scru.shape"
   ]
  },
  {
   "cell_type": "code",
   "execution_count": 32,
   "id": "2d42196f",
   "metadata": {},
   "outputs": [
    {
     "data": {
      "text/plain": [
       "(264951, 9)"
      ]
     },
     "execution_count": 32,
     "metadata": {},
     "output_type": "execute_result"
    }
   ],
   "source": [
    "adata_BS.obs.shape"
   ]
  },
  {
   "cell_type": "code",
   "execution_count": 33,
   "id": "f4299c63",
   "metadata": {},
   "outputs": [
    {
     "data": {
      "text/html": [
       "<div>\n",
       "<style scoped>\n",
       "    .dataframe tbody tr th:only-of-type {\n",
       "        vertical-align: middle;\n",
       "    }\n",
       "\n",
       "    .dataframe tbody tr th {\n",
       "        vertical-align: top;\n",
       "    }\n",
       "\n",
       "    .dataframe thead th {\n",
       "        text-align: right;\n",
       "    }\n",
       "</style>\n",
       "<table border=\"1\" class=\"dataframe\">\n",
       "  <thead>\n",
       "    <tr style=\"text-align: right;\">\n",
       "      <th></th>\n",
       "      <th>batch</th>\n",
       "      <th>index</th>\n",
       "      <th>Sample</th>\n",
       "      <th>Fragment_Names</th>\n",
       "      <th>Patient_Name</th>\n",
       "      <th>Grade</th>\n",
       "      <th>Sex</th>\n",
       "      <th>MGMT_status</th>\n",
       "      <th>IDH_status</th>\n",
       "    </tr>\n",
       "  </thead>\n",
       "  <tbody>\n",
       "    <tr>\n",
       "      <th>AAACCTGAGAAGCCCA-1</th>\n",
       "      <td>0</td>\n",
       "      <td>AAACCTGAGAAGCCCA-1</td>\n",
       "      <td>1</td>\n",
       "      <td>GSM5518596</td>\n",
       "      <td>rGBM-01</td>\n",
       "      <td>IV</td>\n",
       "      <td>F</td>\n",
       "      <td>methylated</td>\n",
       "      <td>wt</td>\n",
       "    </tr>\n",
       "    <tr>\n",
       "      <th>AAACCTGCACTGTCGG-1</th>\n",
       "      <td>0</td>\n",
       "      <td>AAACCTGCACTGTCGG-1</td>\n",
       "      <td>1</td>\n",
       "      <td>GSM5518596</td>\n",
       "      <td>rGBM-01</td>\n",
       "      <td>IV</td>\n",
       "      <td>F</td>\n",
       "      <td>methylated</td>\n",
       "      <td>wt</td>\n",
       "    </tr>\n",
       "    <tr>\n",
       "      <th>AAACCTGCAGCGTCCA-1</th>\n",
       "      <td>0</td>\n",
       "      <td>AAACCTGCAGCGTCCA-1</td>\n",
       "      <td>1</td>\n",
       "      <td>GSM5518596</td>\n",
       "      <td>rGBM-01</td>\n",
       "      <td>IV</td>\n",
       "      <td>F</td>\n",
       "      <td>methylated</td>\n",
       "      <td>wt</td>\n",
       "    </tr>\n",
       "    <tr>\n",
       "      <th>AAACCTGGTAAATGAC-1</th>\n",
       "      <td>0</td>\n",
       "      <td>AAACCTGGTAAATGAC-1</td>\n",
       "      <td>1</td>\n",
       "      <td>GSM5518596</td>\n",
       "      <td>rGBM-01</td>\n",
       "      <td>IV</td>\n",
       "      <td>F</td>\n",
       "      <td>methylated</td>\n",
       "      <td>wt</td>\n",
       "    </tr>\n",
       "    <tr>\n",
       "      <th>AAACCTGGTCACTTCC-1</th>\n",
       "      <td>0</td>\n",
       "      <td>AAACCTGGTCACTTCC-1</td>\n",
       "      <td>1</td>\n",
       "      <td>GSM5518596</td>\n",
       "      <td>rGBM-01</td>\n",
       "      <td>IV</td>\n",
       "      <td>F</td>\n",
       "      <td>methylated</td>\n",
       "      <td>wt</td>\n",
       "    </tr>\n",
       "    <tr>\n",
       "      <th>...</th>\n",
       "      <td>...</td>\n",
       "      <td>...</td>\n",
       "      <td>...</td>\n",
       "      <td>...</td>\n",
       "      <td>...</td>\n",
       "      <td>...</td>\n",
       "      <td>...</td>\n",
       "      <td>...</td>\n",
       "      <td>...</td>\n",
       "    </tr>\n",
       "    <tr>\n",
       "      <th>TTTGTTGGTCCCTCAT-44</th>\n",
       "      <td>1</td>\n",
       "      <td>TTTGTTGGTCCCTCAT-44</td>\n",
       "      <td>44</td>\n",
       "      <td>GSM5518639</td>\n",
       "      <td>ndGBM-09</td>\n",
       "      <td>IV</td>\n",
       "      <td>M</td>\n",
       "      <td>methylated</td>\n",
       "      <td>wt</td>\n",
       "    </tr>\n",
       "    <tr>\n",
       "      <th>TTTGTTGGTGAGATCG-44</th>\n",
       "      <td>1</td>\n",
       "      <td>TTTGTTGGTGAGATCG-44</td>\n",
       "      <td>44</td>\n",
       "      <td>GSM5518639</td>\n",
       "      <td>ndGBM-09</td>\n",
       "      <td>IV</td>\n",
       "      <td>M</td>\n",
       "      <td>methylated</td>\n",
       "      <td>wt</td>\n",
       "    </tr>\n",
       "    <tr>\n",
       "      <th>TTTGTTGTCCACACCT-44</th>\n",
       "      <td>1</td>\n",
       "      <td>TTTGTTGTCCACACCT-44</td>\n",
       "      <td>44</td>\n",
       "      <td>GSM5518639</td>\n",
       "      <td>ndGBM-09</td>\n",
       "      <td>IV</td>\n",
       "      <td>M</td>\n",
       "      <td>methylated</td>\n",
       "      <td>wt</td>\n",
       "    </tr>\n",
       "    <tr>\n",
       "      <th>TTTGTTGTCCTGTAGA-44</th>\n",
       "      <td>1</td>\n",
       "      <td>TTTGTTGTCCTGTAGA-44</td>\n",
       "      <td>44</td>\n",
       "      <td>GSM5518639</td>\n",
       "      <td>ndGBM-09</td>\n",
       "      <td>IV</td>\n",
       "      <td>M</td>\n",
       "      <td>methylated</td>\n",
       "      <td>wt</td>\n",
       "    </tr>\n",
       "    <tr>\n",
       "      <th>TTTGTTGTCTCGACGG-44</th>\n",
       "      <td>1</td>\n",
       "      <td>TTTGTTGTCTCGACGG-44</td>\n",
       "      <td>44</td>\n",
       "      <td>GSM5518639</td>\n",
       "      <td>ndGBM-09</td>\n",
       "      <td>IV</td>\n",
       "      <td>M</td>\n",
       "      <td>methylated</td>\n",
       "      <td>wt</td>\n",
       "    </tr>\n",
       "  </tbody>\n",
       "</table>\n",
       "<p>264951 rows × 9 columns</p>\n",
       "</div>"
      ],
      "text/plain": [
       "                    batch                index Sample Fragment_Names  \\\n",
       "AAACCTGAGAAGCCCA-1      0   AAACCTGAGAAGCCCA-1      1     GSM5518596   \n",
       "AAACCTGCACTGTCGG-1      0   AAACCTGCACTGTCGG-1      1     GSM5518596   \n",
       "AAACCTGCAGCGTCCA-1      0   AAACCTGCAGCGTCCA-1      1     GSM5518596   \n",
       "AAACCTGGTAAATGAC-1      0   AAACCTGGTAAATGAC-1      1     GSM5518596   \n",
       "AAACCTGGTCACTTCC-1      0   AAACCTGGTCACTTCC-1      1     GSM5518596   \n",
       "...                   ...                  ...    ...            ...   \n",
       "TTTGTTGGTCCCTCAT-44     1  TTTGTTGGTCCCTCAT-44     44     GSM5518639   \n",
       "TTTGTTGGTGAGATCG-44     1  TTTGTTGGTGAGATCG-44     44     GSM5518639   \n",
       "TTTGTTGTCCACACCT-44     1  TTTGTTGTCCACACCT-44     44     GSM5518639   \n",
       "TTTGTTGTCCTGTAGA-44     1  TTTGTTGTCCTGTAGA-44     44     GSM5518639   \n",
       "TTTGTTGTCTCGACGG-44     1  TTTGTTGTCTCGACGG-44     44     GSM5518639   \n",
       "\n",
       "                    Patient_Name Grade Sex MGMT_status IDH_status  \n",
       "AAACCTGAGAAGCCCA-1       rGBM-01    IV   F  methylated         wt  \n",
       "AAACCTGCACTGTCGG-1       rGBM-01    IV   F  methylated         wt  \n",
       "AAACCTGCAGCGTCCA-1       rGBM-01    IV   F  methylated         wt  \n",
       "AAACCTGGTAAATGAC-1       rGBM-01    IV   F  methylated         wt  \n",
       "AAACCTGGTCACTTCC-1       rGBM-01    IV   F  methylated         wt  \n",
       "...                          ...   ...  ..         ...        ...  \n",
       "TTTGTTGGTCCCTCAT-44     ndGBM-09    IV   M  methylated         wt  \n",
       "TTTGTTGGTGAGATCG-44     ndGBM-09    IV   M  methylated         wt  \n",
       "TTTGTTGTCCACACCT-44     ndGBM-09    IV   M  methylated         wt  \n",
       "TTTGTTGTCCTGTAGA-44     ndGBM-09    IV   M  methylated         wt  \n",
       "TTTGTTGTCTCGACGG-44     ndGBM-09    IV   M  methylated         wt  \n",
       "\n",
       "[264951 rows x 9 columns]"
      ]
     },
     "execution_count": 33,
     "metadata": {},
     "output_type": "execute_result"
    }
   ],
   "source": [
    "adata_BS.obs"
   ]
  },
  {
   "cell_type": "markdown",
   "id": "bdce7a88",
   "metadata": {},
   "source": [
    "# Add scrublet doublet score to adata object"
   ]
  },
  {
   "cell_type": "code",
   "execution_count": 34,
   "id": "cafad369",
   "metadata": {},
   "outputs": [],
   "source": [
    "adata_BS.obs['doublet_score']=Scru.doublet_score"
   ]
  },
  {
   "cell_type": "code",
   "execution_count": 35,
   "id": "98315031",
   "metadata": {},
   "outputs": [
    {
     "data": {
      "text/html": [
       "<div>\n",
       "<style scoped>\n",
       "    .dataframe tbody tr th:only-of-type {\n",
       "        vertical-align: middle;\n",
       "    }\n",
       "\n",
       "    .dataframe tbody tr th {\n",
       "        vertical-align: top;\n",
       "    }\n",
       "\n",
       "    .dataframe thead th {\n",
       "        text-align: right;\n",
       "    }\n",
       "</style>\n",
       "<table border=\"1\" class=\"dataframe\">\n",
       "  <thead>\n",
       "    <tr style=\"text-align: right;\">\n",
       "      <th></th>\n",
       "      <th>batch</th>\n",
       "      <th>index</th>\n",
       "      <th>Sample</th>\n",
       "      <th>Fragment_Names</th>\n",
       "      <th>Patient_Name</th>\n",
       "      <th>Grade</th>\n",
       "      <th>Sex</th>\n",
       "      <th>MGMT_status</th>\n",
       "      <th>IDH_status</th>\n",
       "      <th>doublet_score</th>\n",
       "    </tr>\n",
       "  </thead>\n",
       "  <tbody>\n",
       "    <tr>\n",
       "      <th>AAACCTGAGAAGCCCA-1</th>\n",
       "      <td>0</td>\n",
       "      <td>AAACCTGAGAAGCCCA-1</td>\n",
       "      <td>1</td>\n",
       "      <td>GSM5518596</td>\n",
       "      <td>rGBM-01</td>\n",
       "      <td>IV</td>\n",
       "      <td>F</td>\n",
       "      <td>methylated</td>\n",
       "      <td>wt</td>\n",
       "      <td>0.076245</td>\n",
       "    </tr>\n",
       "    <tr>\n",
       "      <th>AAACCTGCACTGTCGG-1</th>\n",
       "      <td>0</td>\n",
       "      <td>AAACCTGCACTGTCGG-1</td>\n",
       "      <td>1</td>\n",
       "      <td>GSM5518596</td>\n",
       "      <td>rGBM-01</td>\n",
       "      <td>IV</td>\n",
       "      <td>F</td>\n",
       "      <td>methylated</td>\n",
       "      <td>wt</td>\n",
       "      <td>0.035897</td>\n",
       "    </tr>\n",
       "    <tr>\n",
       "      <th>AAACCTGCAGCGTCCA-1</th>\n",
       "      <td>0</td>\n",
       "      <td>AAACCTGCAGCGTCCA-1</td>\n",
       "      <td>1</td>\n",
       "      <td>GSM5518596</td>\n",
       "      <td>rGBM-01</td>\n",
       "      <td>IV</td>\n",
       "      <td>F</td>\n",
       "      <td>methylated</td>\n",
       "      <td>wt</td>\n",
       "      <td>0.182609</td>\n",
       "    </tr>\n",
       "    <tr>\n",
       "      <th>AAACCTGGTAAATGAC-1</th>\n",
       "      <td>0</td>\n",
       "      <td>AAACCTGGTAAATGAC-1</td>\n",
       "      <td>1</td>\n",
       "      <td>GSM5518596</td>\n",
       "      <td>rGBM-01</td>\n",
       "      <td>IV</td>\n",
       "      <td>F</td>\n",
       "      <td>methylated</td>\n",
       "      <td>wt</td>\n",
       "      <td>0.096154</td>\n",
       "    </tr>\n",
       "    <tr>\n",
       "      <th>AAACCTGGTCACTTCC-1</th>\n",
       "      <td>0</td>\n",
       "      <td>AAACCTGGTCACTTCC-1</td>\n",
       "      <td>1</td>\n",
       "      <td>GSM5518596</td>\n",
       "      <td>rGBM-01</td>\n",
       "      <td>IV</td>\n",
       "      <td>F</td>\n",
       "      <td>methylated</td>\n",
       "      <td>wt</td>\n",
       "      <td>0.044993</td>\n",
       "    </tr>\n",
       "  </tbody>\n",
       "</table>\n",
       "</div>"
      ],
      "text/plain": [
       "                   batch               index Sample Fragment_Names  \\\n",
       "AAACCTGAGAAGCCCA-1     0  AAACCTGAGAAGCCCA-1      1     GSM5518596   \n",
       "AAACCTGCACTGTCGG-1     0  AAACCTGCACTGTCGG-1      1     GSM5518596   \n",
       "AAACCTGCAGCGTCCA-1     0  AAACCTGCAGCGTCCA-1      1     GSM5518596   \n",
       "AAACCTGGTAAATGAC-1     0  AAACCTGGTAAATGAC-1      1     GSM5518596   \n",
       "AAACCTGGTCACTTCC-1     0  AAACCTGGTCACTTCC-1      1     GSM5518596   \n",
       "\n",
       "                   Patient_Name Grade Sex MGMT_status IDH_status  \\\n",
       "AAACCTGAGAAGCCCA-1      rGBM-01    IV   F  methylated         wt   \n",
       "AAACCTGCACTGTCGG-1      rGBM-01    IV   F  methylated         wt   \n",
       "AAACCTGCAGCGTCCA-1      rGBM-01    IV   F  methylated         wt   \n",
       "AAACCTGGTAAATGAC-1      rGBM-01    IV   F  methylated         wt   \n",
       "AAACCTGGTCACTTCC-1      rGBM-01    IV   F  methylated         wt   \n",
       "\n",
       "                    doublet_score  \n",
       "AAACCTGAGAAGCCCA-1       0.076245  \n",
       "AAACCTGCACTGTCGG-1       0.035897  \n",
       "AAACCTGCAGCGTCCA-1       0.182609  \n",
       "AAACCTGGTAAATGAC-1       0.096154  \n",
       "AAACCTGGTCACTTCC-1       0.044993  "
      ]
     },
     "execution_count": 35,
     "metadata": {},
     "output_type": "execute_result"
    }
   ],
   "source": [
    "adata_BS.obs.head(5)"
   ]
  },
  {
   "cell_type": "markdown",
   "id": "305f1179",
   "metadata": {},
   "source": [
    "# Define threshold to be applyed + define doublet vs. singlet"
   ]
  },
  {
   "cell_type": "code",
   "execution_count": 36,
   "id": "0dd244a1",
   "metadata": {},
   "outputs": [],
   "source": [
    "threshold = 0.25\n",
    "adata_BS.obs['predicted_doublets_1'] = pd.Categorical(['doublet' if x > threshold else 'singlet' for x in adata_BS.obs.doublet_score])\n"
   ]
  },
  {
   "cell_type": "code",
   "execution_count": 37,
   "id": "83a7989e",
   "metadata": {},
   "outputs": [
    {
     "data": {
      "text/plain": [
       "singlet    259666\n",
       "doublet      5285\n",
       "Name: predicted_doublets_1, dtype: int64"
      ]
     },
     "execution_count": 37,
     "metadata": {},
     "output_type": "execute_result"
    }
   ],
   "source": [
    "adata_BS.obs.predicted_doublets_1.value_counts()"
   ]
  },
  {
   "cell_type": "code",
   "execution_count": 38,
   "id": "fa9e633d",
   "metadata": {},
   "outputs": [
    {
     "data": {
      "text/plain": [
       "Index(['AAACCTGAGAAGCCCA-1', 'AAACCTGCACTGTCGG-1', 'AAACCTGCAGCGTCCA-1',\n",
       "       'AAACCTGGTAAATGAC-1', 'AAACCTGGTCACTTCC-1', 'AAACCTGGTTACAGAA-1',\n",
       "       'AAACCTGGTTAGATGA-1', 'AAACCTGTCAAACCAC-1', 'AAACCTGTCGCCATAA-1',\n",
       "       'AAACCTGTCTGTCAAG-1',\n",
       "       ...\n",
       "       'TTTGGTTAGGCTCCCA-44', 'TTTGGTTCAAGCTACT-44', 'TTTGGTTCATCGCTAA-44',\n",
       "       'TTTGGTTTCCAGCAAT-44', 'TTTGGTTTCCTTATCA-44', 'TTTGTTGGTCCCTCAT-44',\n",
       "       'TTTGTTGGTGAGATCG-44', 'TTTGTTGTCCACACCT-44', 'TTTGTTGTCCTGTAGA-44',\n",
       "       'TTTGTTGTCTCGACGG-44'],\n",
       "      dtype='object', length=259666)"
      ]
     },
     "execution_count": 38,
     "metadata": {},
     "output_type": "execute_result"
    }
   ],
   "source": [
    "cells_of_interest1 = adata_BS.obs.loc[adata_BS.obs[\"predicted_doublets_1\"].isin([\"singlet\"]), :].index\n",
    "cells_of_interest1"
   ]
  },
  {
   "cell_type": "code",
   "execution_count": 39,
   "id": "585c4543",
   "metadata": {},
   "outputs": [
    {
     "data": {
      "text/plain": [
       "Index(['AAACCTGAGAAGCCCA-1', 'AAACCTGCACTGTCGG-1', 'AAACCTGCAGCGTCCA-1',\n",
       "       'AAACCTGGTAAATGAC-1', 'AAACCTGGTCACTTCC-1', 'AAACCTGGTTACAGAA-1',\n",
       "       'AAACCTGGTTAGATGA-1', 'AAACCTGTCAAACCAC-1', 'AAACCTGTCGCCATAA-1',\n",
       "       'AAACCTGTCTGTCAAG-1',\n",
       "       ...\n",
       "       'TTTGGTTAGGCTCCCA-44', 'TTTGGTTCAAGCTACT-44', 'TTTGGTTCATCGCTAA-44',\n",
       "       'TTTGGTTTCCAGCAAT-44', 'TTTGGTTTCCTTATCA-44', 'TTTGTTGGTCCCTCAT-44',\n",
       "       'TTTGTTGGTGAGATCG-44', 'TTTGTTGTCCACACCT-44', 'TTTGTTGTCCTGTAGA-44',\n",
       "       'TTTGTTGTCTCGACGG-44'],\n",
       "      dtype='object', length=259666)"
      ]
     },
     "execution_count": 39,
     "metadata": {},
     "output_type": "execute_result"
    }
   ],
   "source": [
    "# Define threshold to be applyed + define doublet vs. singlet\n",
    "\n",
    "threshold = 0.25\n",
    "adata_BS.obs['predicted_doublets_1'] = pd.Categorical(['doublet' if x > threshold else 'singlet' for x in adata_BS.obs.doublet_score])\n",
    "\n",
    "\n",
    "adata_BS.obs.predicted_doublets_1.value_counts()\n",
    "\n",
    "cells_of_interest1 = adata_BS.obs.loc[adata_BS.obs[\"predicted_doublets_1\"].isin([\"singlet\"]), :].index\n",
    "cells_of_interest1"
   ]
  },
  {
   "cell_type": "markdown",
   "id": "d5611a93",
   "metadata": {},
   "source": [
    "# Object after doublet removal"
   ]
  },
  {
   "cell_type": "code",
   "execution_count": 40,
   "id": "f564d719",
   "metadata": {},
   "outputs": [
    {
     "data": {
      "text/plain": [
       "View of AnnData object with n_obs × n_vars = 259666 × 31915\n",
       "    obs: 'batch', 'index', 'Sample', 'Fragment_Names', 'Patient_Name', 'Grade', 'Sex', 'MGMT_status', 'IDH_status', 'doublet_score', 'predicted_doublets_1'\n",
       "    var: 'feature_types', 'gene_ids'"
      ]
     },
     "execution_count": 40,
     "metadata": {},
     "output_type": "execute_result"
    }
   ],
   "source": [
    "#---- object after removing doublets \n",
    "\n",
    "adata_Scrub=adata_BS[cells_of_interest1, :]\n",
    "adata_Scrub"
   ]
  },
  {
   "cell_type": "code",
   "execution_count": 41,
   "id": "fad2248d",
   "metadata": {},
   "outputs": [
    {
     "data": {
      "text/html": [
       "<div>\n",
       "<style scoped>\n",
       "    .dataframe tbody tr th:only-of-type {\n",
       "        vertical-align: middle;\n",
       "    }\n",
       "\n",
       "    .dataframe tbody tr th {\n",
       "        vertical-align: top;\n",
       "    }\n",
       "\n",
       "    .dataframe thead th {\n",
       "        text-align: right;\n",
       "    }\n",
       "</style>\n",
       "<table border=\"1\" class=\"dataframe\">\n",
       "  <thead>\n",
       "    <tr style=\"text-align: right;\">\n",
       "      <th></th>\n",
       "      <th>batch</th>\n",
       "      <th>index</th>\n",
       "      <th>Sample</th>\n",
       "      <th>Fragment_Names</th>\n",
       "      <th>Patient_Name</th>\n",
       "      <th>Grade</th>\n",
       "      <th>Sex</th>\n",
       "      <th>MGMT_status</th>\n",
       "      <th>IDH_status</th>\n",
       "      <th>doublet_score</th>\n",
       "      <th>predicted_doublets_1</th>\n",
       "    </tr>\n",
       "  </thead>\n",
       "  <tbody>\n",
       "    <tr>\n",
       "      <th>AAACCTGAGAAGCCCA-1</th>\n",
       "      <td>0</td>\n",
       "      <td>AAACCTGAGAAGCCCA-1</td>\n",
       "      <td>1</td>\n",
       "      <td>GSM5518596</td>\n",
       "      <td>rGBM-01</td>\n",
       "      <td>IV</td>\n",
       "      <td>F</td>\n",
       "      <td>methylated</td>\n",
       "      <td>wt</td>\n",
       "      <td>0.076245</td>\n",
       "      <td>singlet</td>\n",
       "    </tr>\n",
       "    <tr>\n",
       "      <th>AAACCTGCACTGTCGG-1</th>\n",
       "      <td>0</td>\n",
       "      <td>AAACCTGCACTGTCGG-1</td>\n",
       "      <td>1</td>\n",
       "      <td>GSM5518596</td>\n",
       "      <td>rGBM-01</td>\n",
       "      <td>IV</td>\n",
       "      <td>F</td>\n",
       "      <td>methylated</td>\n",
       "      <td>wt</td>\n",
       "      <td>0.035897</td>\n",
       "      <td>singlet</td>\n",
       "    </tr>\n",
       "    <tr>\n",
       "      <th>AAACCTGCAGCGTCCA-1</th>\n",
       "      <td>0</td>\n",
       "      <td>AAACCTGCAGCGTCCA-1</td>\n",
       "      <td>1</td>\n",
       "      <td>GSM5518596</td>\n",
       "      <td>rGBM-01</td>\n",
       "      <td>IV</td>\n",
       "      <td>F</td>\n",
       "      <td>methylated</td>\n",
       "      <td>wt</td>\n",
       "      <td>0.182609</td>\n",
       "      <td>singlet</td>\n",
       "    </tr>\n",
       "    <tr>\n",
       "      <th>AAACCTGGTAAATGAC-1</th>\n",
       "      <td>0</td>\n",
       "      <td>AAACCTGGTAAATGAC-1</td>\n",
       "      <td>1</td>\n",
       "      <td>GSM5518596</td>\n",
       "      <td>rGBM-01</td>\n",
       "      <td>IV</td>\n",
       "      <td>F</td>\n",
       "      <td>methylated</td>\n",
       "      <td>wt</td>\n",
       "      <td>0.096154</td>\n",
       "      <td>singlet</td>\n",
       "    </tr>\n",
       "    <tr>\n",
       "      <th>AAACCTGGTCACTTCC-1</th>\n",
       "      <td>0</td>\n",
       "      <td>AAACCTGGTCACTTCC-1</td>\n",
       "      <td>1</td>\n",
       "      <td>GSM5518596</td>\n",
       "      <td>rGBM-01</td>\n",
       "      <td>IV</td>\n",
       "      <td>F</td>\n",
       "      <td>methylated</td>\n",
       "      <td>wt</td>\n",
       "      <td>0.044993</td>\n",
       "      <td>singlet</td>\n",
       "    </tr>\n",
       "  </tbody>\n",
       "</table>\n",
       "</div>"
      ],
      "text/plain": [
       "                   batch               index Sample Fragment_Names  \\\n",
       "AAACCTGAGAAGCCCA-1     0  AAACCTGAGAAGCCCA-1      1     GSM5518596   \n",
       "AAACCTGCACTGTCGG-1     0  AAACCTGCACTGTCGG-1      1     GSM5518596   \n",
       "AAACCTGCAGCGTCCA-1     0  AAACCTGCAGCGTCCA-1      1     GSM5518596   \n",
       "AAACCTGGTAAATGAC-1     0  AAACCTGGTAAATGAC-1      1     GSM5518596   \n",
       "AAACCTGGTCACTTCC-1     0  AAACCTGGTCACTTCC-1      1     GSM5518596   \n",
       "\n",
       "                   Patient_Name Grade Sex MGMT_status IDH_status  \\\n",
       "AAACCTGAGAAGCCCA-1      rGBM-01    IV   F  methylated         wt   \n",
       "AAACCTGCACTGTCGG-1      rGBM-01    IV   F  methylated         wt   \n",
       "AAACCTGCAGCGTCCA-1      rGBM-01    IV   F  methylated         wt   \n",
       "AAACCTGGTAAATGAC-1      rGBM-01    IV   F  methylated         wt   \n",
       "AAACCTGGTCACTTCC-1      rGBM-01    IV   F  methylated         wt   \n",
       "\n",
       "                    doublet_score predicted_doublets_1  \n",
       "AAACCTGAGAAGCCCA-1       0.076245              singlet  \n",
       "AAACCTGCACTGTCGG-1       0.035897              singlet  \n",
       "AAACCTGCAGCGTCCA-1       0.182609              singlet  \n",
       "AAACCTGGTAAATGAC-1       0.096154              singlet  \n",
       "AAACCTGGTCACTTCC-1       0.044993              singlet  "
      ]
     },
     "execution_count": 41,
     "metadata": {},
     "output_type": "execute_result"
    }
   ],
   "source": [
    "adata_Scrub.obs.head()"
   ]
  },
  {
   "cell_type": "code",
   "execution_count": 42,
   "id": "04e5f91f",
   "metadata": {},
   "outputs": [],
   "source": [
    "adata_Scrub.write('./H5AD/GM_AS_BF.h5ad')"
   ]
  }
 ],
 "metadata": {
  "kernelspec": {
   "display_name": "scanpy_env_A",
   "language": "python",
   "name": "scanpy_env_a"
  },
  "language_info": {
   "codemirror_mode": {
    "name": "ipython",
    "version": 3
   },
   "file_extension": ".py",
   "mimetype": "text/x-python",
   "name": "python",
   "nbconvert_exporter": "python",
   "pygments_lexer": "ipython3",
   "version": "3.9.15"
  }
 },
 "nbformat": 4,
 "nbformat_minor": 5
}
